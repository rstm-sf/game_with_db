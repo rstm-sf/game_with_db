{
 "cells": [
  {
   "cell_type": "markdown",
   "metadata": {},
   "source": [
    "# Производительность объектно-реляционной модели на примере работы с Postgres\n",
    "\n",
    "<p> https://en.wikipedia.org/wiki/PostgreSQL\n",
    "<p> http://initd.org/psycopg/\n",
    "\n",
    "\n",
    "```sql\n",
    "CREATE TABLE \"region\" (\n",
    "    id SERIAL PRIMARY KEY,\n",
    "    name VARCHAR(64) NOT NULL);\n",
    "\n",
    "CREATE TABLE \"group\" (\n",
    "    id SERIAL PRIMARY KEY,\n",
    "    name VARCHAR(256) NOT NULL);\n",
    "\n",
    "CREATE TABLE \"crimestatsocial\" (\n",
    "    id SERIAL PRIMARY KEY,\n",
    "    data json NOT NULL,\n",
    "    reg_id INTEGER NOT NULL,\n",
    "    group_id INTEGER NOT NULL,\n",
    "    FOREIGN KEY (reg_id)\n",
    "        REFERENCES \"region\" (id)\n",
    "        ON UPDATE CASCADE ON DELETE CASCADE,\n",
    "    FOREIGN KEY (group_id)\n",
    "        REFERENCES \"group\" (id)\n",
    "        ON UPDATE CASCADE ON DELETE CASCADE);\n",
    "```\n",
    "```js\n",
    "data = {\n",
    "    \"year\": <number>,\n",
    "    \"category\": <string>,\n",
    "    \"gender\": <string>,\n",
    "    \"value\": <number>,\n",
    "}\n",
    "```"
   ]
  },
  {
   "cell_type": "code",
   "execution_count": 1,
   "metadata": {
    "collapsed": true
   },
   "outputs": [],
   "source": [
    "import sys\n",
    "import time\n",
    "\n",
    "import psycopg2\n",
    "\n",
    "sys.path.append('../config/')\n",
    "from config import config"
   ]
  },
  {
   "cell_type": "code",
   "execution_count": 2,
   "metadata": {
    "collapsed": true
   },
   "outputs": [],
   "source": [
    "params = config(section=\"obj_postgres\")\n",
    "conn = psycopg2.connect(**params)\n",
    "cur = conn.cursor()"
   ]
  },
  {
   "cell_type": "code",
   "execution_count": 3,
   "metadata": {
    "collapsed": true
   },
   "outputs": [],
   "source": [
    "commands = (\n",
    "    \"\"\"\n",
    "    SELECT\n",
    "        region.id AS reg_id,\n",
    "        region.name AS reg_name,\n",
    "        crimestatsocial.data->'year' AS year,\n",
    "        \"group\".id AS group_id,\n",
    "        \"group\".name AS group_name,\n",
    "        crimestatsocial.data->'category' AS category,\n",
    "        crimestatsocial.data->'gender' AS gender,\n",
    "        crimestatsocial.data->'value' AS value\n",
    "    FROM crimestatsocial, region, \"group\"\n",
    "    WHERE crimestatsocial.group_id = \"group\".id\n",
    "    AND crimestatsocial.reg_id = region.id;\"\"\",\n",
    "    \"\"\"\n",
    "    SELECT\n",
    "        region.id AS reg_id,\n",
    "        region.name AS reg_name,\n",
    "        crimestatsocial.data->'year' AS year,\n",
    "        \"group\".id AS group_id,\n",
    "        \"group\".name AS group_name,\n",
    "        crimestatsocial.data->'category' AS category,\n",
    "        crimestatsocial.data->'gender' AS gender,\n",
    "        crimestatsocial.data->'value' AS value\n",
    "    FROM crimestatsocial, region, \"group\"\n",
    "    WHERE crimestatsocial.group_id = \"group\".id\n",
    "    AND crimestatsocial.reg_id = region.id\n",
    "    AND CAST(crimestatsocial.data->>'year' AS integer)=2016;\"\"\",\n",
    "    \"\"\"\n",
    "    SELECT group_id, COUNT(\"group_id\")\n",
    "    FROM \"crimestatsocial\"\n",
    "    WHERE CAST(crimestatsocial.data->>'year' AS integer)=2016\n",
    "    GROUP BY \"group_id\";\"\"\",\n",
    "    \"\"\"\n",
    "    SELECT crimestatsocial.data->>'year', COUNT(*)\n",
    "    FROM \"crimestatsocial\"\n",
    "    GROUP BY crimestatsocial.data->>'year';\"\"\",\n",
    "    \"\"\"\n",
    "    SELECT COUNT(\"id\") AS count\n",
    "    FROM \"group\";\"\"\",\n",
    "    \n",
    "    \"\"\"\n",
    "    SELECT row_to_json(row) FROM (\n",
    "        SELECT\n",
    "            region.id AS reg_id,\n",
    "            region.name AS reg_name,\n",
    "            crimestatsocial.data->'year' AS year,\n",
    "            \"group\".id AS group_id,\n",
    "            \"group\".name AS group_name,\n",
    "            crimestatsocial.data->'category' AS category,\n",
    "            crimestatsocial.data->'gender' AS gender,\n",
    "            crimestatsocial.data->'value' AS value\n",
    "        FROM crimestatsocial, region, \"group\"\n",
    "        WHERE crimestatsocial.group_id = \"group\".id\n",
    "        AND crimestatsocial.reg_id = region.id\n",
    "    ) row;\"\"\",\n",
    "    \"\"\"\n",
    "    SELECT row_to_json(row) FROM (\n",
    "        SELECT\n",
    "            region.id AS reg_id,\n",
    "            region.name AS reg_name,\n",
    "            crimestatsocial.data->'year' AS year,\n",
    "            \"group\".id AS group_id,\n",
    "            \"group\".name AS group_name,\n",
    "            crimestatsocial.data->'category' AS category,\n",
    "            crimestatsocial.data->'gender' AS gender,\n",
    "            crimestatsocial.data->'value' AS value\n",
    "        FROM crimestatsocial, region, \"group\"\n",
    "        WHERE crimestatsocial.group_id = \"group\".id\n",
    "        AND crimestatsocial.reg_id = region.id\n",
    "        AND CAST(crimestatsocial.data->>'year' AS integer)=2016\n",
    "    ) row;\"\"\",\n",
    ")"
   ]
  },
  {
   "cell_type": "markdown",
   "metadata": {},
   "source": [
    "## 1. Собираются исходные кортежи"
   ]
  },
  {
   "cell_type": "code",
   "execution_count": 4,
   "metadata": {},
   "outputs": [
    {
     "name": "stdout",
     "output_type": "stream",
     "text": [
      "27384\n",
      "(1100, 'Российская Федерация', 2016, 14002, 'по возрасту', '14-15', 'Мужчины', 13573)\n"
     ]
    }
   ],
   "source": [
    "cur.execute(commands[0])\n",
    "fetchall = cur.fetchall()\n",
    "print(len(fetchall))\n",
    "print(fetchall[0])"
   ]
  },
  {
   "cell_type": "code",
   "execution_count": 5,
   "metadata": {
    "scrolled": true
   },
   "outputs": [
    {
     "name": "stdout",
     "output_type": "stream",
     "text": [
      "948 ms ± 61.6 ms per loop (mean ± std. dev. of 7 runs, 1 loop each)\n"
     ]
    }
   ],
   "source": [
    "%timeit cur.execute(commands[0])"
   ]
  },
  {
   "cell_type": "code",
   "execution_count": 6,
   "metadata": {},
   "outputs": [
    {
     "name": "stdout",
     "output_type": "stream",
     "text": [
      "1.37 s ± 24 ms per loop (mean ± std. dev. of 7 runs, 1 loop each)\n"
     ]
    }
   ],
   "source": [
    "%timeit cur.execute(commands[5])"
   ]
  },
  {
   "cell_type": "markdown",
   "metadata": {},
   "source": [
    "## 2. Собираются исходные кортежи за 2016 год"
   ]
  },
  {
   "cell_type": "code",
   "execution_count": 7,
   "metadata": {},
   "outputs": [
    {
     "name": "stdout",
     "output_type": "stream",
     "text": [
      "3948\n",
      "(1100, 'Российская Федерация', 2016, 14002, 'по возрасту', '14-15', 'Мужчины', 13573)\n"
     ]
    }
   ],
   "source": [
    "cur.execute(commands[1])\n",
    "fetchall = cur.fetchall()\n",
    "print(len(fetchall))\n",
    "print(fetchall[0])"
   ]
  },
  {
   "cell_type": "code",
   "execution_count": 8,
   "metadata": {
    "scrolled": true
   },
   "outputs": [
    {
     "name": "stdout",
     "output_type": "stream",
     "text": [
      "309 ms ± 8.81 ms per loop (mean ± std. dev. of 7 runs, 1 loop each)\n"
     ]
    }
   ],
   "source": [
    "%timeit cur.execute(commands[1])"
   ]
  },
  {
   "cell_type": "code",
   "execution_count": 9,
   "metadata": {},
   "outputs": [
    {
     "name": "stdout",
     "output_type": "stream",
     "text": [
      "383 ms ± 18.4 ms per loop (mean ± std. dev. of 7 runs, 1 loop each)\n"
     ]
    }
   ],
   "source": [
    "%timeit cur.execute(commands[6])"
   ]
  },
  {
   "cell_type": "markdown",
   "metadata": {},
   "source": [
    "## 3. Подсчет исходных кортежей за 2016 год по группам"
   ]
  },
  {
   "cell_type": "code",
   "execution_count": 10,
   "metadata": {
    "scrolled": true
   },
   "outputs": [
    {
     "data": {
      "text/plain": [
       "[(14002, 1128), (14007, 376), (14006, 1692), (14005, 752)]"
      ]
     },
     "execution_count": 10,
     "metadata": {},
     "output_type": "execute_result"
    }
   ],
   "source": [
    "cur.execute(commands[2])\n",
    "cur.fetchall()"
   ]
  },
  {
   "cell_type": "code",
   "execution_count": 11,
   "metadata": {},
   "outputs": [
    {
     "name": "stdout",
     "output_type": "stream",
     "text": [
      "181 ms ± 6.56 ms per loop (mean ± std. dev. of 7 runs, 10 loops each)\n"
     ]
    }
   ],
   "source": [
    "%timeit cur.execute(commands[2])"
   ]
  },
  {
   "cell_type": "markdown",
   "metadata": {},
   "source": [
    "## 4. Подсчет исходных кортежей по годам"
   ]
  },
  {
   "cell_type": "code",
   "execution_count": 12,
   "metadata": {},
   "outputs": [
    {
     "data": {
      "text/plain": [
       "[('2011', 3864),\n",
       " ('2010', 3864),\n",
       " ('2014', 3990),\n",
       " ('2015', 3990),\n",
       " ('2016', 3948),\n",
       " ('2012', 3864),\n",
       " ('2013', 3864)]"
      ]
     },
     "execution_count": 12,
     "metadata": {},
     "output_type": "execute_result"
    }
   ],
   "source": [
    "cur.execute(commands[3])\n",
    "cur.fetchall()"
   ]
  },
  {
   "cell_type": "code",
   "execution_count": 13,
   "metadata": {
    "scrolled": true
   },
   "outputs": [
    {
     "name": "stdout",
     "output_type": "stream",
     "text": [
      "197 ms ± 14.9 ms per loop (mean ± std. dev. of 7 runs, 10 loops each)\n"
     ]
    }
   ],
   "source": [
    "%timeit cur.execute(commands[3])"
   ]
  },
  {
   "cell_type": "markdown",
   "metadata": {},
   "source": [
    "## 5. Подсчет уникальных групп"
   ]
  },
  {
   "cell_type": "code",
   "execution_count": 14,
   "metadata": {
    "scrolled": false
   },
   "outputs": [
    {
     "data": {
      "text/plain": [
       "4"
      ]
     },
     "execution_count": 14,
     "metadata": {},
     "output_type": "execute_result"
    }
   ],
   "source": [
    "def fun():\n",
    "    cur.execute(commands[4])\n",
    "    fetchall = cur.fetchall()\n",
    "    return fetchall[0][0]\n",
    "\n",
    "fun()"
   ]
  },
  {
   "cell_type": "code",
   "execution_count": 15,
   "metadata": {},
   "outputs": [
    {
     "name": "stdout",
     "output_type": "stream",
     "text": [
      "793 µs ± 67.6 µs per loop (mean ± std. dev. of 7 runs, 1000 loops each)\n"
     ]
    }
   ],
   "source": [
    "%timeit fun()"
   ]
  },
  {
   "cell_type": "code",
   "execution_count": 16,
   "metadata": {
    "collapsed": true
   },
   "outputs": [],
   "source": [
    "cur.close()\n",
    "conn.close()"
   ]
  }
 ],
 "metadata": {
  "kernelspec": {
   "display_name": "postgres",
   "language": "python",
   "name": "postgres"
  },
  "language_info": {
   "codemirror_mode": {
    "name": "ipython",
    "version": 3
   },
   "file_extension": ".py",
   "mimetype": "text/x-python",
   "name": "python",
   "nbconvert_exporter": "python",
   "pygments_lexer": "ipython3",
   "version": "3.6.2"
  }
 },
 "nbformat": 4,
 "nbformat_minor": 2
}
