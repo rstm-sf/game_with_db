{
 "cells": [
  {
   "cell_type": "code",
   "execution_count": 1,
   "metadata": {
    "collapsed": true
   },
   "outputs": [],
   "source": [
    "import sys\n",
    "\n",
    "from pymongo import MongoClient\n",
    "\n",
    "sys.path.append('../config/')\n",
    "from config import config"
   ]
  },
  {
   "cell_type": "code",
   "execution_count": 2,
   "metadata": {
    "collapsed": true
   },
   "outputs": [],
   "source": [
    "params = config(section='mongodb')\n",
    "client = MongoClient(params[\"host\"], int(params[\"port\"]))\n",
    "db = client[params[\"database\"]]\n",
    "table = db.table"
   ]
  },
  {
   "cell_type": "code",
   "execution_count": 3,
   "metadata": {},
   "outputs": [
    {
     "data": {
      "text/plain": [
       "27384"
      ]
     },
     "execution_count": 3,
     "metadata": {},
     "output_type": "execute_result"
    }
   ],
   "source": [
    "table.count()"
   ]
  },
  {
   "cell_type": "code",
   "execution_count": 4,
   "metadata": {},
   "outputs": [
    {
     "data": {
      "text/plain": [
       "{'_id': ObjectId('5afc3e58672caf0c3490a6e3'),\n",
       " 'region': {'id': '1100', 'name': 'Российская Федерация'},\n",
       " 'year': 2016,\n",
       " 'group': {'id': 14002, 'name': 'по возрасту'},\n",
       " 'category': '14-15',\n",
       " 'gender': 'Мужчины',\n",
       " 'value': 13573}"
      ]
     },
     "execution_count": 4,
     "metadata": {},
     "output_type": "execute_result"
    }
   ],
   "source": [
    "table.find_one()"
   ]
  },
  {
   "cell_type": "code",
   "execution_count": 5,
   "metadata": {},
   "outputs": [
    {
     "data": {
      "text/plain": [
       "3948"
      ]
     },
     "execution_count": 5,
     "metadata": {},
     "output_type": "execute_result"
    }
   ],
   "source": [
    "table.count({'year': 2016})"
   ]
  },
  {
   "cell_type": "code",
   "execution_count": 6,
   "metadata": {},
   "outputs": [
    {
     "name": "stdout",
     "output_type": "stream",
     "text": [
      "{'_id': 2010, 'count': 3864}\n",
      "{'_id': 2011, 'count': 3864}\n",
      "{'_id': 2012, 'count': 3864}\n",
      "{'_id': 2013, 'count': 3864}\n",
      "{'_id': 2014, 'count': 3990}\n",
      "{'_id': 2015, 'count': 3990}\n",
      "{'_id': 2016, 'count': 3948}\n"
     ]
    }
   ],
   "source": [
    "stargroup = table.aggregate([\n",
    "    {\n",
    "        '$group': {\n",
    "            '_id': '$year',\n",
    "            'count': {'$sum': 1}\n",
    "        }\n",
    "    },\n",
    "    {\n",
    "        '$sort': {'_id': 1}\n",
    "    }\n",
    "])\n",
    "\n",
    "for group in stargroup:\n",
    "    print(group)"
   ]
  },
  {
   "cell_type": "code",
   "execution_count": 7,
   "metadata": {
    "scrolled": true
   },
   "outputs": [
    {
     "data": {
      "text/plain": [
       "7824"
      ]
     },
     "execution_count": 7,
     "metadata": {},
     "output_type": "execute_result"
    }
   ],
   "source": [
    "table.find({'group.id': 14002}).count()"
   ]
  },
  {
   "cell_type": "code",
   "execution_count": 8,
   "metadata": {
    "scrolled": false
   },
   "outputs": [
    {
     "name": "stdout",
     "output_type": "stream",
     "text": [
      "{'_id': 14002, 'count': 7824}\n",
      "{'_id': 14005, 'count': 5216}\n",
      "{'_id': 14006, 'count': 11736}\n",
      "{'_id': 14007, 'count': 2608}\n"
     ]
    }
   ],
   "source": [
    "stargroup = table.aggregate([\n",
    "    {\n",
    "        '$group': {\n",
    "            '_id': '$group.id',\n",
    "            'count': {'$sum': 1}\n",
    "        }\n",
    "    },\n",
    "    {\n",
    "        '$sort': {'_id': 1}\n",
    "    }\n",
    "])\n",
    "\n",
    "for group in stargroup:\n",
    "    print(group)"
   ]
  },
  {
   "cell_type": "code",
   "execution_count": 9,
   "metadata": {
    "collapsed": true
   },
   "outputs": [],
   "source": [
    "client.close()"
   ]
  }
 ],
 "metadata": {
  "kernelspec": {
   "display_name": "mongo",
   "language": "python",
   "name": "mongo"
  },
  "language_info": {
   "codemirror_mode": {
    "name": "ipython",
    "version": 3
   },
   "file_extension": ".py",
   "mimetype": "text/x-python",
   "name": "python",
   "nbconvert_exporter": "python",
   "pygments_lexer": "ipython3",
   "version": "3.6.2"
  }
 },
 "nbformat": 4,
 "nbformat_minor": 2
}
