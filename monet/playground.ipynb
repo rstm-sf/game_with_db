{
 "cells": [
  {
   "cell_type": "markdown",
   "metadata": {},
   "source": [
    "# Производительность модели семейства столбцов на примере работы с MonetDB\n",
    "\n",
    "<p> https://en.wikipedia.org/wiki/MonetDB\n",
    "<p> http://pymonetdb.readthedocs.io/en/1.1.1/\n",
    "\n",
    "|  reg_id | reg_name |   year  | group_id | group_name | categry | gender |  value  |\n",
    "|:-------:|:--------:|:-------:|:--------:|:----------:|:-------:|:------:|:-------:|\n",
    "| integer |  string  | integer |  integer |   string   |  string | string | integer |"
   ]
  },
  {
   "cell_type": "code",
   "execution_count": 1,
   "metadata": {
    "collapsed": true
   },
   "outputs": [],
   "source": [
    "import sys\n",
    "import time\n",
    "\n",
    "import pymonetdb\n",
    "\n",
    "sys.path.append('../config/')\n",
    "from config import config"
   ]
  },
  {
   "cell_type": "code",
   "execution_count": 2,
   "metadata": {
    "collapsed": true
   },
   "outputs": [],
   "source": [
    "params = config(section='monetdb')\n",
    "conn = pymonetdb.connect(\n",
    "    database=params[\"database\"],\n",
    "    hostname=params[\"hostname\"],\n",
    "    username=params[\"username\"],\n",
    "    password=params[\"password\"])\n",
    "cur = conn.cursor()\n",
    "cur.arraysize = 100"
   ]
  },
  {
   "cell_type": "code",
   "execution_count": 3,
   "metadata": {
    "collapsed": true
   },
   "outputs": [],
   "source": [
    "commands = (\n",
    "    \"\"\"\n",
    "    SELECT *\n",
    "    FROM \"crimestatsocial\";\"\"\",\n",
    "    \"\"\"\n",
    "    SELECT *\n",
    "    FROM \"crimestatsocial\"\n",
    "    WHERE \"year\"=2016;\"\"\",\n",
    "     \"\"\"\n",
    "    SELECT *, COUNT(\"group_id\")\n",
    "    FROM \"crimestatsocial\"\n",
    "    WHERE \"year\"=2016\n",
    "    GROUP BY \"group_id\";\"\"\",\n",
    "    \"\"\"\n",
    "    SELECT \"year\", COUNT(\"year\")\n",
    "    FROM \"crimestatsocial\"\n",
    "    GROUP BY \"year\";\"\"\",\n",
    "    \"\"\"\n",
    "    SELECT \"group_id\", COUNT(DISTINCT \"group_id\")\n",
    "    FROM \"crimestatsocial\"\n",
    "    GROUP BY \"group_id\";\"\"\"\n",
    ")"
   ]
  },
  {
   "cell_type": "markdown",
   "metadata": {},
   "source": [
    "## 1. Собираются исходные кортежи"
   ]
  },
  {
   "cell_type": "code",
   "execution_count": 4,
   "metadata": {
    "scrolled": true
   },
   "outputs": [
    {
     "name": "stdout",
     "output_type": "stream",
     "text": [
      "27384\n",
      "(1100, 'Российская Федерация', 2016, 14002, 'по возрасту', '14-15', 'Мужчины', 13573)\n"
     ]
    }
   ],
   "source": [
    "cur.execute(commands[0])\n",
    "fetchall = cur.fetchall()\n",
    "print(len(fetchall))\n",
    "print(fetchall[0])"
   ]
  },
  {
   "cell_type": "code",
   "execution_count": 5,
   "metadata": {
    "scrolled": true
   },
   "outputs": [
    {
     "name": "stdout",
     "output_type": "stream",
     "text": [
      "19.9 ms ± 1.43 ms per loop (mean ± std. dev. of 7 runs, 10 loops each)\n"
     ]
    }
   ],
   "source": [
    "%timeit cur.execute(commands[0])"
   ]
  },
  {
   "cell_type": "markdown",
   "metadata": {},
   "source": [
    "## 2. Собираются исходные кортежи за 2016 год"
   ]
  },
  {
   "cell_type": "code",
   "execution_count": 6,
   "metadata": {},
   "outputs": [
    {
     "name": "stdout",
     "output_type": "stream",
     "text": [
      "3948\n",
      "(1100, 'Российская Федерация', 2016, 14002, 'по возрасту', '14-15', 'Мужчины', 13573)\n"
     ]
    }
   ],
   "source": [
    "cur.execute(commands[1])\n",
    "fetchall = cur.fetchall()\n",
    "print(len(fetchall))\n",
    "print(fetchall[0])"
   ]
  },
  {
   "cell_type": "code",
   "execution_count": 7,
   "metadata": {
    "scrolled": false
   },
   "outputs": [
    {
     "name": "stdout",
     "output_type": "stream",
     "text": [
      "21.5 ms ± 1.8 ms per loop (mean ± std. dev. of 7 runs, 10 loops each)\n"
     ]
    }
   ],
   "source": [
    "%timeit cur.execute(commands[1])"
   ]
  },
  {
   "cell_type": "markdown",
   "metadata": {},
   "source": [
    "## 3. Подсчет исходных кортежей за 2016 год по группам"
   ]
  },
  {
   "cell_type": "code",
   "execution_count": 8,
   "metadata": {},
   "outputs": [
    {
     "data": {
      "text/plain": [
       "[(14002, 1128), (14006, 1692), (14005, 752), (14007, 376)]"
      ]
     },
     "execution_count": 8,
     "metadata": {},
     "output_type": "execute_result"
    }
   ],
   "source": [
    "cur.execute(commands[2])\n",
    "cur.fetchall()"
   ]
  },
  {
   "cell_type": "code",
   "execution_count": 9,
   "metadata": {
    "scrolled": false
   },
   "outputs": [
    {
     "name": "stdout",
     "output_type": "stream",
     "text": [
      "5.73 ms ± 308 µs per loop (mean ± std. dev. of 7 runs, 100 loops each)\n"
     ]
    }
   ],
   "source": [
    "%timeit cur.execute(commands[2])"
   ]
  },
  {
   "cell_type": "markdown",
   "metadata": {},
   "source": [
    "## 4. Подсчет исходных кортежей по годам"
   ]
  },
  {
   "cell_type": "code",
   "execution_count": 10,
   "metadata": {},
   "outputs": [
    {
     "data": {
      "text/plain": [
       "[(2016, 3948),\n",
       " (2015, 3990),\n",
       " (2014, 3990),\n",
       " (2013, 3864),\n",
       " (2012, 3864),\n",
       " (2011, 3864),\n",
       " (2010, 3864)]"
      ]
     },
     "execution_count": 10,
     "metadata": {},
     "output_type": "execute_result"
    }
   ],
   "source": [
    "cur.execute(commands[3])\n",
    "cur.fetchall()"
   ]
  },
  {
   "cell_type": "code",
   "execution_count": 11,
   "metadata": {
    "scrolled": true
   },
   "outputs": [
    {
     "name": "stdout",
     "output_type": "stream",
     "text": [
      "6.04 ms ± 161 µs per loop (mean ± std. dev. of 7 runs, 100 loops each)\n"
     ]
    }
   ],
   "source": [
    "%timeit cur.execute(commands[3])"
   ]
  },
  {
   "cell_type": "markdown",
   "metadata": {},
   "source": [
    "## 5. Подсчет уникальных групп"
   ]
  },
  {
   "cell_type": "code",
   "execution_count": 12,
   "metadata": {
    "scrolled": false
   },
   "outputs": [
    {
     "data": {
      "text/plain": [
       "4"
      ]
     },
     "execution_count": 12,
     "metadata": {},
     "output_type": "execute_result"
    }
   ],
   "source": [
    "cur.execute(commands[4])"
   ]
  },
  {
   "cell_type": "code",
   "execution_count": 13,
   "metadata": {
    "scrolled": false
   },
   "outputs": [
    {
     "name": "stdout",
     "output_type": "stream",
     "text": [
      "8.04 ms ± 454 µs per loop (mean ± std. dev. of 7 runs, 100 loops each)\n"
     ]
    }
   ],
   "source": [
    "%timeit cur.execute(commands[4])"
   ]
  },
  {
   "cell_type": "code",
   "execution_count": 14,
   "metadata": {
    "collapsed": true
   },
   "outputs": [],
   "source": [
    "cur.close()\n",
    "conn.close()"
   ]
  }
 ],
 "metadata": {
  "kernelspec": {
   "display_name": "monet",
   "language": "python",
   "name": "monet"
  },
  "language_info": {
   "codemirror_mode": {
    "name": "ipython",
    "version": 3
   },
   "file_extension": ".py",
   "mimetype": "text/x-python",
   "name": "python",
   "nbconvert_exporter": "python",
   "pygments_lexer": "ipython3",
   "version": "3.6.2"
  }
 },
 "nbformat": 4,
 "nbformat_minor": 2
}
