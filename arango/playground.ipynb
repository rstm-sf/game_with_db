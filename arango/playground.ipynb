{
 "cells": [
  {
   "cell_type": "markdown",
   "metadata": {},
   "source": [
    "# Производительность графовой модели на примере работы с ArangoDB\n",
    "\n",
    "<p> https://en.wikipedia.org/wiki/ArangoDB\n",
    "<p> http://python-driver-for-arangodb.readthedocs.io/en/4.1.0\n",
    "\n",
    "graph TD;\n",
    "    A-->B;\n",
    "    A-->C;\n",
    "    B-->D;\n",
    "    C-->D;"
   ]
  },
  {
   "cell_type": "code",
   "execution_count": 1,
   "metadata": {
    "collapsed": true
   },
   "outputs": [],
   "source": [
    "import sys\n",
    "import time\n",
    "\n",
    "from arango import ArangoClient\n",
    "\n",
    "sys.path.append('../config/')\n",
    "from config import config"
   ]
  },
  {
   "cell_type": "code",
   "execution_count": 2,
   "metadata": {
    "collapsed": true
   },
   "outputs": [],
   "source": [
    "params = config(section=\"arangodb\")\n",
    "client = ArangoClient()\n",
    "db = client.db(*tuple(params.values()))\n",
    "graph = db.graph('crimestatsocial')"
   ]
  },
  {
   "cell_type": "code",
   "execution_count": 3,
   "metadata": {},
   "outputs": [
    {
     "data": {
      "text/plain": [
       "{'vertices': [{'_key': '1',\n",
       "   '_id': 'css/1',\n",
       "   '_rev': '_W0zZI7y--_',\n",
       "   'year': 2016,\n",
       "   'category': '14-15',\n",
       "   'gender': 'Мужчины',\n",
       "   'value': 13573},\n",
       "  {'_key': '1100',\n",
       "   '_id': 'region/1100',\n",
       "   '_rev': '_W0zZIzm--_',\n",
       "   'name': 'Российская Федерация'},\n",
       "  {'_key': '14002',\n",
       "   '_id': 'group/14002',\n",
       "   '_rev': '_W0zZI6K--_',\n",
       "   'name': 'по возрасту'}],\n",
       " 'paths': [{'edges': [],\n",
       "   'vertices': [{'_key': '1',\n",
       "     '_id': 'css/1',\n",
       "     '_rev': '_W0zZI7y--_',\n",
       "     'year': 2016,\n",
       "     'category': '14-15',\n",
       "     'gender': 'Мужчины',\n",
       "     'value': 13573}]},\n",
       "  {'edges': [{'_key': '1-1100',\n",
       "     '_id': 'css_region/1-1100',\n",
       "     '_from': 'css/1',\n",
       "     '_to': 'region/1100',\n",
       "     '_rev': '_W0zZI9K--_'}],\n",
       "   'vertices': [{'_key': '1',\n",
       "     '_id': 'css/1',\n",
       "     '_rev': '_W0zZI7y--_',\n",
       "     'year': 2016,\n",
       "     'category': '14-15',\n",
       "     'gender': 'Мужчины',\n",
       "     'value': 13573},\n",
       "    {'_key': '1100',\n",
       "     '_id': 'region/1100',\n",
       "     '_rev': '_W0zZIzm--_',\n",
       "     'name': 'Российская Федерация'}]},\n",
       "  {'edges': [{'_key': '1-14002',\n",
       "     '_id': 'css_group/1-14002',\n",
       "     '_from': 'css/1',\n",
       "     '_to': 'group/14002',\n",
       "     '_rev': '_W0zZJ-u--_'}],\n",
       "   'vertices': [{'_key': '1',\n",
       "     '_id': 'css/1',\n",
       "     '_rev': '_W0zZI7y--_',\n",
       "     'year': 2016,\n",
       "     'category': '14-15',\n",
       "     'gender': 'Мужчины',\n",
       "     'value': 13573},\n",
       "    {'_key': '14002',\n",
       "     '_id': 'group/14002',\n",
       "     '_rev': '_W0zZI6K--_',\n",
       "     'name': 'по возрасту'}]}]}"
      ]
     },
     "execution_count": 3,
     "metadata": {},
     "output_type": "execute_result"
    }
   ],
   "source": [
    "css = graph.vertex_collection('css')\n",
    "graph.traverse(css.get('1')[\"_id\"])"
   ]
  },
  {
   "cell_type": "code",
   "execution_count": 4,
   "metadata": {},
   "outputs": [
    {
     "name": "stdout",
     "output_type": "stream",
     "text": [
      "58.9 ms ± 10.5 ms per loop (mean ± std. dev. of 7 runs, 10 loops each)\n"
     ]
    }
   ],
   "source": [
    "%timeit graph.traverse(css.get('1')[\"_id\"])"
   ]
  }
 ],
 "metadata": {
  "kernelspec": {
   "display_name": "arango",
   "language": "python",
   "name": "arango"
  },
  "language_info": {
   "codemirror_mode": {
    "name": "ipython",
    "version": 3
   },
   "file_extension": ".py",
   "mimetype": "text/x-python",
   "name": "python",
   "nbconvert_exporter": "python",
   "pygments_lexer": "ipython3",
   "version": "3.6.2"
  }
 },
 "nbformat": 4,
 "nbformat_minor": 2
}
