{
 "cells": [
  {
   "cell_type": "markdown",
   "metadata": {},
   "source": [
    "# Производительность графовой модели на примере работы с ArangoDB\n",
    "\n",
    "<p> https://en.wikipedia.org/wiki/ArangoDB\n",
    "<p> http://python-driver-for-arangodb.readthedocs.io/en/4.1.0\n",
    "\n",
    "<img src=\"img/arango_ex.png\" width=\"50%\" align=\"right\"/>\n",
    "<img src=\"img/arango_model.png\" width=\"50%\" align=\"left\"/>"
   ]
  },
  {
   "cell_type": "code",
   "execution_count": 1,
   "metadata": {
    "collapsed": true
   },
   "outputs": [],
   "source": [
    "import sys\n",
    "import time\n",
    "\n",
    "from arango import ArangoClient\n",
    "\n",
    "sys.path.append('../config/')\n",
    "from config import config"
   ]
  },
  {
   "cell_type": "code",
   "execution_count": 2,
   "metadata": {
    "collapsed": true
   },
   "outputs": [],
   "source": [
    "params = config(section=\"arangodb\")\n",
    "client = ArangoClient()\n",
    "db = client.db(*tuple(params.values()))\n",
    "graph = db.graph('crimestatsocial')\n",
    "group = graph.vertex_collection('group')"
   ]
  },
  {
   "cell_type": "code",
   "execution_count": 3,
   "metadata": {
    "collapsed": true
   },
   "outputs": [],
   "source": [
    "commands = (\n",
    "    \"\"\"\n",
    "    FOR v IN 1..1 INBOUND 'group/14006' GRAPH 'crimestatsocial'\n",
    "        RETURN v\"\"\",\n",
    "    \"\"\"\n",
    "    FOR v IN 1..1 INBOUND 'group/14006' GRAPH 'crimestatsocial'\n",
    "        COLLECT WITH COUNT INTO length\n",
    "        RETURN length\"\"\",\n",
    "        \"\"\"\n",
    "    FOR doc IN group\n",
    "        FOR v IN 1..1 INBOUND doc._id GRAPH 'crimestatsocial'\n",
    "            FILTER v.year == 2016\n",
    "            COLLECT group_id = doc._key WITH COUNT INTO length\n",
    "    RETURN {group_id, length}\"\"\",\n",
    "    \"\"\"\n",
    "    FOR doc IN group\n",
    "        FOR v IN 1..1 INBOUND doc._id GRAPH 'crimestatsocial'\n",
    "            COLLECT year = v.year WITH COUNT INTO length\n",
    "    RETURN {year, length}\"\"\",\n",
    ")"
   ]
  },
  {
   "cell_type": "markdown",
   "metadata": {},
   "source": [
    "## 1. Поиск входных узлов в узел типа group с id=14006"
   ]
  },
  {
   "cell_type": "code",
   "execution_count": 4,
   "metadata": {},
   "outputs": [
    {
     "name": "stdout",
     "output_type": "stream",
     "text": [
      "dict_keys(['vertices', 'paths'])\n",
      "\n",
      "[{'_key': '14006', '_id': 'group/14006', '_rev': '_W0zk8ny--_', 'name': 'по социальному составу'}, {'_key': '10831', '_id': 'css/10831', '_rev': '_W0zpRci--_', 'year': 2010, 'category': 'наемных работников', 'gender': 'Мужчины', 'value': 3670}, {'_key': '13299', '_id': 'css/13299', '_rev': '_W0zs0kq--_', 'year': 2013, 'category': 'работников сельского хозяйства', 'gender': 'Мужчины', 'value': 81}]\n",
      "\n",
      "11736\n",
      "\n",
      "[{'edges': [], 'vertices': [{'_key': '14006', '_id': 'group/14006', '_rev': '_W0zk8ny--_', 'name': 'по социальному составу'}]}, {'edges': [{'_key': '10831-14006', '_id': 'css_group/10831-14006', '_from': 'css/10831', '_to': 'group/14006', '_rev': '_W0zpRgu---'}], 'vertices': [{'_key': '14006', '_id': 'group/14006', '_rev': '_W0zk8ny--_', 'name': 'по социальному составу'}, {'_key': '10831', '_id': 'css/10831', '_rev': '_W0zpRci--_', 'year': 2010, 'category': 'наемных работников', 'gender': 'Мужчины', 'value': 3670}]}]\n"
     ]
    }
   ],
   "source": [
    "tr = graph.traverse(group.get('14006')[\"_id\"], 'inbound')\n",
    "print(tr.keys())\n",
    "print('\\n{}\\n'.format(tr.get('vertices')[:3]))\n",
    "print('{}\\n'.format(len(tr.get('vertices')) - 1))\n",
    "print(tr.get('paths')[:2])"
   ]
  },
  {
   "cell_type": "code",
   "execution_count": 5,
   "metadata": {
    "scrolled": false
   },
   "outputs": [
    {
     "name": "stdout",
     "output_type": "stream",
     "text": [
      "12.8 s ± 863 ms per loop (mean ± std. dev. of 7 runs, 1 loop each)\n"
     ]
    }
   ],
   "source": [
    "%timeit graph.traverse(group.get('14006')[\"_id\"], 'inbound')"
   ]
  },
  {
   "cell_type": "code",
   "execution_count": 6,
   "metadata": {},
   "outputs": [
    {
     "name": "stdout",
     "output_type": "stream",
     "text": [
      "11736\n",
      "[{'_key': '10831', '_id': 'css/10831', '_rev': '_W0zpRci--_', 'year': 2010, 'category': 'наемных работников', 'gender': 'Мужчины', 'value': 3670}, {'_key': '13299', '_id': 'css/13299', '_rev': '_W0zs0kq--_', 'year': 2013, 'category': 'работников сельского хозяйства', 'gender': 'Мужчины', 'value': 81}]\n"
     ]
    },
    {
     "data": {
      "text/plain": [
       "True"
      ]
     },
     "execution_count": 6,
     "metadata": {},
     "output_type": "execute_result"
    }
   ],
   "source": [
    "cursor = db.aql.execute(commands[0], count=True)\n",
    "print(cursor.count())\n",
    "print(list(cursor.batch())[:2])\n",
    "cursor.close()"
   ]
  },
  {
   "cell_type": "code",
   "execution_count": 7,
   "metadata": {
    "scrolled": true
   },
   "outputs": [
    {
     "name": "stdout",
     "output_type": "stream",
     "text": [
      "139 ms ± 1.62 ms per loop (mean ± std. dev. of 7 runs, 10 loops each)\n"
     ]
    }
   ],
   "source": [
    "%timeit db.aql.execute(commands[0], count=True)"
   ]
  },
  {
   "cell_type": "code",
   "execution_count": 8,
   "metadata": {},
   "outputs": [
    {
     "data": {
      "text/plain": [
       "11736"
      ]
     },
     "execution_count": 8,
     "metadata": {},
     "output_type": "execute_result"
    }
   ],
   "source": [
    "db.aql.execute(commands[1]).pop()"
   ]
  },
  {
   "cell_type": "code",
   "execution_count": 9,
   "metadata": {
    "scrolled": true
   },
   "outputs": [
    {
     "name": "stdout",
     "output_type": "stream",
     "text": [
      "94.6 ms ± 1.09 ms per loop (mean ± std. dev. of 7 runs, 10 loops each)\n"
     ]
    }
   ],
   "source": [
    "%timeit db.aql.execute(commands[1])"
   ]
  },
  {
   "cell_type": "markdown",
   "metadata": {},
   "source": [
    "## 2. Подсчет исходных кортежей за 2016 год по группам"
   ]
  },
  {
   "cell_type": "code",
   "execution_count": 10,
   "metadata": {},
   "outputs": [
    {
     "data": {
      "text/plain": [
       "deque([{'year': 2010, 'length': 3864},\n",
       "       {'year': 2011, 'length': 3864},\n",
       "       {'year': 2012, 'length': 3864},\n",
       "       {'year': 2013, 'length': 3864},\n",
       "       {'year': 2014, 'length': 3990},\n",
       "       {'year': 2015, 'length': 3990},\n",
       "       {'year': 2016, 'length': 3948}])"
      ]
     },
     "execution_count": 10,
     "metadata": {},
     "output_type": "execute_result"
    }
   ],
   "source": [
    "db.aql.execute(commands[3]).batch()"
   ]
  },
  {
   "cell_type": "code",
   "execution_count": 11,
   "metadata": {},
   "outputs": [
    {
     "name": "stdout",
     "output_type": "stream",
     "text": [
      "227 ms ± 5.26 ms per loop (mean ± std. dev. of 7 runs, 1 loop each)\n"
     ]
    }
   ],
   "source": [
    "%timeit db.aql.execute(commands[3]).batch()"
   ]
  },
  {
   "cell_type": "markdown",
   "metadata": {},
   "source": [
    "## 3. Подсчет исходных кортежей по годам"
   ]
  },
  {
   "cell_type": "code",
   "execution_count": 12,
   "metadata": {},
   "outputs": [
    {
     "data": {
      "text/plain": [
       "deque([{'group_id': '14002', 'length': 1128},\n",
       "       {'group_id': '14005', 'length': 752},\n",
       "       {'group_id': '14006', 'length': 1692},\n",
       "       {'group_id': '14007', 'length': 376}])"
      ]
     },
     "execution_count": 12,
     "metadata": {},
     "output_type": "execute_result"
    }
   ],
   "source": [
    "db.aql.execute(commands[2]).batch()"
   ]
  },
  {
   "cell_type": "code",
   "execution_count": 13,
   "metadata": {},
   "outputs": [
    {
     "name": "stdout",
     "output_type": "stream",
     "text": [
      "237 ms ± 7.99 ms per loop (mean ± std. dev. of 7 runs, 1 loop each)\n"
     ]
    }
   ],
   "source": [
    "%timeit db.aql.execute(commands[2])"
   ]
  },
  {
   "cell_type": "markdown",
   "metadata": {},
   "source": [
    "## 4. Подсчет уникальных групп"
   ]
  },
  {
   "cell_type": "code",
   "execution_count": 14,
   "metadata": {},
   "outputs": [
    {
     "data": {
      "text/plain": [
       "4"
      ]
     },
     "execution_count": 14,
     "metadata": {},
     "output_type": "execute_result"
    }
   ],
   "source": [
    "group.count()"
   ]
  },
  {
   "cell_type": "code",
   "execution_count": 15,
   "metadata": {
    "scrolled": false
   },
   "outputs": [
    {
     "name": "stdout",
     "output_type": "stream",
     "text": [
      "12.1 ms ± 856 µs per loop (mean ± std. dev. of 7 runs, 100 loops each)\n"
     ]
    }
   ],
   "source": [
    "%timeit group.count()"
   ]
  }
 ],
 "metadata": {
  "kernelspec": {
   "display_name": "arango",
   "language": "python",
   "name": "arango"
  },
  "language_info": {
   "codemirror_mode": {
    "name": "ipython",
    "version": 3
   },
   "file_extension": ".py",
   "mimetype": "text/x-python",
   "name": "python",
   "nbconvert_exporter": "python",
   "pygments_lexer": "ipython3",
   "version": "3.6.2"
  }
 },
 "nbformat": 4,
 "nbformat_minor": 2
}
