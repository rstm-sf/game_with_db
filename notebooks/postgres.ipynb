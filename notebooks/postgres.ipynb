{
 "cells": [
  {
   "cell_type": "markdown",
   "metadata": {},
   "source": [
    "# Производительность реляционной модели на примере работы с Postgres\n",
    "\n",
    "<p> https://en.wikipedia.org/wiki/PostgreSQL\n",
    "<p> http://initd.org/psycopg/\n",
    "\n",
    "<img src=\"img/postgres_model.png\" alt=\"Модель\" width=\"300\"/>"
   ]
  },
  {
   "cell_type": "code",
   "execution_count": 1,
   "metadata": {},
   "outputs": [
    {
     "name": "stdout",
     "output_type": "stream",
     "text": [
      "psql (PostgreSQL) 9.5.12\r\n"
     ]
    }
   ],
   "source": [
    "! psql --version"
   ]
  },
  {
   "cell_type": "code",
   "execution_count": 2,
   "metadata": {
    "collapsed": true
   },
   "outputs": [],
   "source": [
    "import random\n",
    "import sys\n",
    "import time\n",
    "\n",
    "import psycopg2\n",
    "\n",
    "sys.path.append('../config/')\n",
    "from config import config"
   ]
  },
  {
   "cell_type": "code",
   "execution_count": 3,
   "metadata": {
    "collapsed": true
   },
   "outputs": [],
   "source": [
    "params = config()\n",
    "conn = psycopg2.connect(**params)\n",
    "cur = conn.cursor()"
   ]
  },
  {
   "cell_type": "code",
   "execution_count": 4,
   "metadata": {
    "collapsed": true
   },
   "outputs": [],
   "source": [
    "commands = (\n",
    "    \"\"\"\n",
    "    SELECT\n",
    "        region.id, region.name, crimestatsocial.year,\n",
    "        \"group\".id, \"group\".name, crimestatsocial.category,\n",
    "        crimestatsocial.gender, crimestatsocial.value\n",
    "    FROM crimestatsocial, region, \"group\"\n",
    "    WHERE crimestatsocial.group_id = \"group\".id\n",
    "    AND crimestatsocial.reg_id = region.id;\"\"\",\n",
    "\n",
    "    \"\"\"\n",
    "    SELECT\n",
    "        region.id, region.name, crimestatsocial.year,\n",
    "        \"group\".id, \"group\".name, crimestatsocial.category,\n",
    "        crimestatsocial.gender, crimestatsocial.value\n",
    "    FROM crimestatsocial, region, \"group\"\n",
    "    WHERE crimestatsocial.group_id = \"group\".id\n",
    "    AND crimestatsocial.reg_id = region.id\n",
    "    AND crimestatsocial.\"year\"=2016;\"\"\",\n",
    "\n",
    "    \"\"\"\n",
    "    SELECT group_id, COUNT(\"group_id\")\n",
    "    FROM \"crimestatsocial\"\n",
    "    WHERE \"year\"=2016\n",
    "    GROUP BY \"group_id\";\"\"\",\n",
    "\n",
    "    \"\"\"\n",
    "    SELECT year, COUNT(*)\n",
    "    FROM \"crimestatsocial\"\n",
    "    GROUP BY year;\"\"\",\n",
    "\n",
    "    \"\"\"\n",
    "    SELECT COUNT(\"id\") AS count\n",
    "    FROM \"group\";\"\"\",\n",
    "\n",
    "    \"\"\"\n",
    "    INSERT INTO\n",
    "        \"crimestatsocial\"\n",
    "        (id, reg_id, year, group_id, category, gender, value)\n",
    "    VALUES (%s, %s, %s, %s, %s, %s, %s);\"\"\",\n",
    "\n",
    "    \"\"\"\n",
    "    UPDATE \"crimestatsocial\"\n",
    "    SET \"year\" = 2017, \"value\" = 1\n",
    "    WHERE \"id\" = %s;\"\"\",\n",
    "\n",
    "    \"\"\"\n",
    "    DELETE FROM \"crimestatsocial\"\n",
    "    WHERE \"id\" = %s;\"\"\",\n",
    ")"
   ]
  },
  {
   "cell_type": "markdown",
   "metadata": {},
   "source": [
    "## 1. Собираются исходные кортежи"
   ]
  },
  {
   "cell_type": "code",
   "execution_count": 5,
   "metadata": {},
   "outputs": [
    {
     "name": "stdout",
     "output_type": "stream",
     "text": [
      "27384\n",
      "(1100, 'Российская Федерация', 2016, 14002, 'по возрасту', '14-15', 'Мужчины ', 13573)\n"
     ]
    }
   ],
   "source": [
    "cur.execute(commands[0])\n",
    "fetchall = cur.fetchall()\n",
    "n_rows = len(fetchall)\n",
    "print(n_rows)\n",
    "print(fetchall[0])"
   ]
  },
  {
   "cell_type": "code",
   "execution_count": 6,
   "metadata": {},
   "outputs": [
    {
     "name": "stdout",
     "output_type": "stream",
     "text": [
      "482 ms ± 21.2 ms per loop (mean ± std. dev. of 7 runs, 1 loop each)\n"
     ]
    }
   ],
   "source": [
    "%timeit cur.execute(commands[0])"
   ]
  },
  {
   "cell_type": "markdown",
   "metadata": {},
   "source": [
    "## 2. Собираются исходные кортежи за 2016 год"
   ]
  },
  {
   "cell_type": "code",
   "execution_count": 7,
   "metadata": {},
   "outputs": [
    {
     "name": "stdout",
     "output_type": "stream",
     "text": [
      "3948\n",
      "(1100, 'Российская Федерация', 2016, 14002, 'по возрасту', '14-15', 'Мужчины ', 13573)\n"
     ]
    }
   ],
   "source": [
    "cur.execute(commands[1])\n",
    "fetchall = cur.fetchall()\n",
    "print(len(fetchall))\n",
    "print(fetchall[0])"
   ]
  },
  {
   "cell_type": "code",
   "execution_count": 8,
   "metadata": {},
   "outputs": [
    {
     "name": "stdout",
     "output_type": "stream",
     "text": [
      "82.3 ms ± 3.85 ms per loop (mean ± std. dev. of 7 runs, 10 loops each)\n"
     ]
    }
   ],
   "source": [
    "%timeit cur.execute(commands[1])"
   ]
  },
  {
   "cell_type": "markdown",
   "metadata": {},
   "source": [
    "## 3. Подсчет исходных кортежей за 2016 год по группам"
   ]
  },
  {
   "cell_type": "code",
   "execution_count": 9,
   "metadata": {},
   "outputs": [
    {
     "data": {
      "text/plain": [
       "[(14002, 1128), (14007, 376), (14006, 1692), (14005, 752)]"
      ]
     },
     "execution_count": 9,
     "metadata": {},
     "output_type": "execute_result"
    }
   ],
   "source": [
    "cur.execute(commands[2])\n",
    "cur.fetchall()"
   ]
  },
  {
   "cell_type": "code",
   "execution_count": 10,
   "metadata": {},
   "outputs": [
    {
     "name": "stdout",
     "output_type": "stream",
     "text": [
      "14.9 ms ± 549 µs per loop (mean ± std. dev. of 7 runs, 100 loops each)\n"
     ]
    }
   ],
   "source": [
    "%timeit cur.execute(commands[2])"
   ]
  },
  {
   "cell_type": "markdown",
   "metadata": {},
   "source": [
    "## 4. Подсчет исходных кортежей по годам"
   ]
  },
  {
   "cell_type": "code",
   "execution_count": 11,
   "metadata": {},
   "outputs": [
    {
     "data": {
      "text/plain": [
       "[(2011, 3864),\n",
       " (2010, 3864),\n",
       " (2014, 3990),\n",
       " (2013, 3864),\n",
       " (2015, 3990),\n",
       " (2016, 3948),\n",
       " (2012, 3864)]"
      ]
     },
     "execution_count": 11,
     "metadata": {},
     "output_type": "execute_result"
    }
   ],
   "source": [
    "cur.execute(commands[3])\n",
    "cur.fetchall()"
   ]
  },
  {
   "cell_type": "code",
   "execution_count": 12,
   "metadata": {
    "scrolled": true
   },
   "outputs": [
    {
     "name": "stdout",
     "output_type": "stream",
     "text": [
      "25 ms ± 114 µs per loop (mean ± std. dev. of 7 runs, 10 loops each)\n"
     ]
    }
   ],
   "source": [
    "%timeit cur.execute(commands[3])"
   ]
  },
  {
   "cell_type": "markdown",
   "metadata": {},
   "source": [
    "## 5. Подсчет уникальных групп"
   ]
  },
  {
   "cell_type": "code",
   "execution_count": 13,
   "metadata": {
    "scrolled": true
   },
   "outputs": [
    {
     "data": {
      "text/plain": [
       "4"
      ]
     },
     "execution_count": 13,
     "metadata": {},
     "output_type": "execute_result"
    }
   ],
   "source": [
    "def fun():\n",
    "    cur.execute(commands[4])\n",
    "    fetchall = cur.fetchall()\n",
    "    return fetchall[0][0]\n",
    "\n",
    "fun()"
   ]
  },
  {
   "cell_type": "code",
   "execution_count": 14,
   "metadata": {},
   "outputs": [
    {
     "name": "stdout",
     "output_type": "stream",
     "text": [
      "733 µs ± 56.8 µs per loop (mean ± std. dev. of 7 runs, 1000 loops each)\n"
     ]
    }
   ],
   "source": [
    "%timeit fun()"
   ]
  },
  {
   "cell_type": "markdown",
   "metadata": {},
   "source": [
    "## 6. Вставка кортежа"
   ]
  },
  {
   "cell_type": "code",
   "execution_count": 15,
   "metadata": {
    "collapsed": true
   },
   "outputs": [],
   "source": [
    "item = (n_rows + 1, 1100, 2018, 14002, '14-15', 'Мужчины ', 1234567890)\n",
    "cur.execute(commands[5], item)\n",
    "conn.commit()"
   ]
  },
  {
   "cell_type": "code",
   "execution_count": 16,
   "metadata": {
    "collapsed": true
   },
   "outputs": [],
   "source": [
    "i = int(1e7)\n",
    "def fun():\n",
    "    global i\n",
    "    cur.execute(commands[5],\n",
    "        (i, 1100, 2018, 14002, '14-15', 'Мужчины ', 1234567890))\n",
    "    i += 1"
   ]
  },
  {
   "cell_type": "code",
   "execution_count": 17,
   "metadata": {
    "scrolled": false
   },
   "outputs": [
    {
     "name": "stdout",
     "output_type": "stream",
     "text": [
      "1.2 ms ± 30.7 µs per loop (mean ± std. dev. of 5 runs, 1000 loops each)\n"
     ]
    }
   ],
   "source": [
    "%timeit -n 1000 -r 5 fun()"
   ]
  },
  {
   "cell_type": "code",
   "execution_count": 18,
   "metadata": {
    "collapsed": true
   },
   "outputs": [],
   "source": [
    "conn.commit()"
   ]
  },
  {
   "cell_type": "markdown",
   "metadata": {},
   "source": [
    "## 7. Изменение кортежа"
   ]
  },
  {
   "cell_type": "code",
   "execution_count": 19,
   "metadata": {
    "collapsed": true
   },
   "outputs": [],
   "source": [
    "cur.execute(commands[6], (n_rows + 1, ))\n",
    "conn.commit()"
   ]
  },
  {
   "cell_type": "code",
   "execution_count": 20,
   "metadata": {
    "collapsed": true
   },
   "outputs": [],
   "source": [
    "i = int(1e7)\n",
    "def fun():\n",
    "    global i\n",
    "    cur.execute(commands[6], (i, ))\n",
    "    i += 1"
   ]
  },
  {
   "cell_type": "code",
   "execution_count": 21,
   "metadata": {
    "scrolled": true
   },
   "outputs": [
    {
     "name": "stdout",
     "output_type": "stream",
     "text": [
      "1.09 ms ± 70.4 µs per loop (mean ± std. dev. of 5 runs, 1000 loops each)\n"
     ]
    }
   ],
   "source": [
    "%timeit -n 1000 -r 5 fun()"
   ]
  },
  {
   "cell_type": "code",
   "execution_count": 22,
   "metadata": {
    "collapsed": true
   },
   "outputs": [],
   "source": [
    "conn.commit()"
   ]
  },
  {
   "cell_type": "markdown",
   "metadata": {},
   "source": [
    "## 8. Удаление кортежа"
   ]
  },
  {
   "cell_type": "code",
   "execution_count": 23,
   "metadata": {
    "collapsed": true
   },
   "outputs": [],
   "source": [
    "cur.execute(commands[7], (n_rows + 1, ))\n",
    "conn.commit()"
   ]
  },
  {
   "cell_type": "code",
   "execution_count": 24,
   "metadata": {
    "collapsed": true
   },
   "outputs": [],
   "source": [
    "i = int(1e7)\n",
    "def fun():\n",
    "    global i\n",
    "    cur.execute(commands[7], (i, ))\n",
    "    i += 1"
   ]
  },
  {
   "cell_type": "code",
   "execution_count": 25,
   "metadata": {
    "scrolled": false
   },
   "outputs": [
    {
     "name": "stdout",
     "output_type": "stream",
     "text": [
      "879 µs ± 78.5 µs per loop (mean ± std. dev. of 5 runs, 1000 loops each)\n"
     ]
    }
   ],
   "source": [
    "%timeit -n 1000 -r 5 fun()"
   ]
  },
  {
   "cell_type": "code",
   "execution_count": 26,
   "metadata": {
    "collapsed": true
   },
   "outputs": [],
   "source": [
    "conn.commit()"
   ]
  },
  {
   "cell_type": "code",
   "execution_count": 27,
   "metadata": {
    "collapsed": true
   },
   "outputs": [],
   "source": [
    "cur.close()\n",
    "conn.close()"
   ]
  }
 ],
 "metadata": {
  "kernelspec": {
   "display_name": "postgres",
   "language": "python",
   "name": "postgres"
  },
  "language_info": {
   "codemirror_mode": {
    "name": "ipython",
    "version": 3
   },
   "file_extension": ".py",
   "mimetype": "text/x-python",
   "name": "python",
   "nbconvert_exporter": "python",
   "pygments_lexer": "ipython3",
   "version": "3.6.2"
  }
 },
 "nbformat": 4,
 "nbformat_minor": 2
}
