{
 "cells": [
  {
   "cell_type": "markdown",
   "metadata": {},
   "source": [
    "# Производительность модели ключ-значение на примере работы с Riak\n",
    "\n",
    "<p> https://en.wikipedia.org/wiki/Riak\n",
    "<p> http://riak-python-client.readthedocs.io/en/2.7.0/\n",
    "\n",
    "```json\n",
    "kv = {\n",
    "    'key': [\n",
    "        \"reg_id\": <string>,\n",
    "        \"reg_name\": <string>,\n",
    "        \"year\": <number>,\n",
    "        \"group_id\": <number>,\n",
    "        \"group_name\": <string>,\n",
    "        \"category\": <string>,\n",
    "        \"gender\": <string>,\n",
    "        \"value\": <number>,\n",
    "    ]\n",
    "}\n",
    "```"
   ]
  },
  {
   "cell_type": "code",
   "execution_count": 1,
   "metadata": {
    "collapsed": true
   },
   "outputs": [],
   "source": [
    "import riak"
   ]
  },
  {
   "cell_type": "code",
   "execution_count": 2,
   "metadata": {
    "collapsed": true
   },
   "outputs": [],
   "source": [
    "client = riak.RiakClient(pb_port=8087)\n",
    "bucket = client.bucket('crimestatsocial')"
   ]
  },
  {
   "cell_type": "markdown",
   "metadata": {},
   "source": [
    "## Получаем данные по ключу"
   ]
  },
  {
   "cell_type": "code",
   "execution_count": 3,
   "metadata": {},
   "outputs": [
    {
     "data": {
      "text/plain": [
       "{'reg_id': '1100',\n",
       " 'reg_name': 'Российская Федерация',\n",
       " 'year': 2016,\n",
       " 'group_id': 14002,\n",
       " 'group_name': 'по возрасту',\n",
       " 'category': '14-15',\n",
       " 'gender': 'Мужчины',\n",
       " 'value': 13573}"
      ]
     },
     "execution_count": 3,
     "metadata": {},
     "output_type": "execute_result"
    }
   ],
   "source": [
    "bucket.get('1').data"
   ]
  },
  {
   "cell_type": "code",
   "execution_count": 4,
   "metadata": {},
   "outputs": [
    {
     "name": "stdout",
     "output_type": "stream",
     "text": [
      "4.62 ms ± 177 µs per loop (mean ± std. dev. of 7 runs, 100 loops each)\n"
     ]
    }
   ],
   "source": [
    "%timeit bucket.get('1').data"
   ]
  },
  {
   "cell_type": "code",
   "execution_count": 5,
   "metadata": {
    "scrolled": true
   },
   "outputs": [
    {
     "data": {
      "text/plain": [
       "[{'reg_id': '1100',\n",
       "  'reg_name': 'Российская Федерация',\n",
       "  'year': 2016,\n",
       "  'group_id': 14002,\n",
       "  'group_name': 'по возрасту',\n",
       "  'category': '16-17',\n",
       "  'gender': 'Мужчины',\n",
       "  'value': 29447},\n",
       " {'reg_id': '1100',\n",
       "  'reg_name': 'Российская Федерация',\n",
       "  'year': 2016,\n",
       "  'group_id': 14002,\n",
       "  'group_name': 'по возрасту',\n",
       "  'category': '14-15',\n",
       "  'gender': 'Мужчины',\n",
       "  'value': 13573}]"
      ]
     },
     "execution_count": 5,
     "metadata": {},
     "output_type": "execute_result"
    }
   ],
   "source": [
    "comm = \"\"\"\n",
    "    function (v) {\n",
    "        var parse_data = JSON.parse(v.values[0].data);\n",
    "        if(parse_data[\"year\"] == 2016)\n",
    "            result = parse_data;\n",
    "        else\n",
    "            result = {};\n",
    "        return [result];\n",
    "    }\"\"\"\n",
    "client \\\n",
    "    .map(comm) \\\n",
    "    .add('crimestatsocial', '1') \\\n",
    "    .add('crimestatsocial', '2') \\\n",
    "    .run()"
   ]
  },
  {
   "cell_type": "code",
   "execution_count": 6,
   "metadata": {},
   "outputs": [
    {
     "data": {
      "text/plain": [
       "[24]"
      ]
     },
     "execution_count": 6,
     "metadata": {},
     "output_type": "execute_result"
    }
   ],
   "source": [
    "comm = \"\"\"\n",
    "    function (v) {\n",
    "        var parse_data = JSON.parse(v.values[0].data);\n",
    "        if(parse_data[\"year\"] == 2016)\n",
    "            result = 1;\n",
    "        else\n",
    "            result = 0;\n",
    "        return [result];\n",
    "    }\"\"\"\n",
    "mr = client.map(comm).reduce_sum()\n",
    "for i in range(100):\n",
    "    mr.add('crimestatsocial', str(i))\n",
    "mr.run()"
   ]
  },
  {
   "cell_type": "code",
   "execution_count": 7,
   "metadata": {
    "collapsed": true
   },
   "outputs": [],
   "source": [
    "client.close()"
   ]
  }
 ],
 "metadata": {
  "kernelspec": {
   "display_name": "riak",
   "language": "python",
   "name": "riak"
  },
  "language_info": {
   "codemirror_mode": {
    "name": "ipython",
    "version": 3
   },
   "file_extension": ".py",
   "mimetype": "text/x-python",
   "name": "python",
   "nbconvert_exporter": "python",
   "pygments_lexer": "ipython3",
   "version": "3.6.2"
  }
 },
 "nbformat": 4,
 "nbformat_minor": 2
}
