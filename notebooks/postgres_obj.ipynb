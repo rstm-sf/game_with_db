{
 "cells": [
  {
   "cell_type": "markdown",
   "metadata": {},
   "source": [
    "# Производительность объектно-реляционной модели на примере работы с Postgres\n",
    "\n",
    "<p> https://en.wikipedia.org/wiki/PostgreSQL\n",
    "<p> http://initd.org/psycopg/\n",
    "\n",
    "\n",
    "```sql\n",
    "CREATE TABLE \"region\" (\n",
    "    id SERIAL PRIMARY KEY,\n",
    "    name VARCHAR(64) NOT NULL);\n",
    "\n",
    "CREATE TABLE \"group\" (\n",
    "    id SERIAL PRIMARY KEY,\n",
    "    name VARCHAR(256) NOT NULL);\n",
    "\n",
    "CREATE TABLE \"crimestatsocial\" (\n",
    "    id SERIAL PRIMARY KEY,\n",
    "    data json NOT NULL,\n",
    "    reg_id INTEGER NOT NULL,\n",
    "    group_id INTEGER NOT NULL,\n",
    "    FOREIGN KEY (reg_id)\n",
    "        REFERENCES \"region\" (id)\n",
    "        ON UPDATE CASCADE ON DELETE CASCADE,\n",
    "    FOREIGN KEY (group_id)\n",
    "        REFERENCES \"group\" (id)\n",
    "        ON UPDATE CASCADE ON DELETE CASCADE);\n",
    "```\n",
    "```js\n",
    "data = {\n",
    "    \"year\": <number>,\n",
    "    \"category\": <string>,\n",
    "    \"gender\": <string>,\n",
    "    \"value\": <number>,\n",
    "}\n",
    "```"
   ]
  },
  {
   "cell_type": "code",
   "execution_count": 1,
   "metadata": {
    "collapsed": true
   },
   "outputs": [],
   "source": [
    "import sys\n",
    "import time\n",
    "\n",
    "import psycopg2\n",
    "\n",
    "sys.path.append('../config/')\n",
    "from config import config"
   ]
  },
  {
   "cell_type": "code",
   "execution_count": 2,
   "metadata": {},
   "outputs": [
    {
     "data": {
      "text/plain": [
       "'PostgreSQL 9.5.12'"
      ]
     },
     "execution_count": 2,
     "metadata": {},
     "output_type": "execute_result"
    }
   ],
   "source": [
    "params = config(section=\"obj_postgres\")\n",
    "conn = psycopg2.connect(**params)\n",
    "cur = conn.cursor()\n",
    "cur.execute(\"\"\"SELECT version();\"\"\")\n",
    "cur.fetchall()[0][0][:17]"
   ]
  },
  {
   "cell_type": "code",
   "execution_count": 3,
   "metadata": {
    "collapsed": true
   },
   "outputs": [],
   "source": [
    "commands = (\n",
    "    \"\"\"\n",
    "    SELECT\n",
    "        region.id AS reg_id,\n",
    "        region.name AS reg_name,\n",
    "        crimestatsocial.data->'year' AS year,\n",
    "        \"group\".id AS group_id,\n",
    "        \"group\".name AS group_name,\n",
    "        crimestatsocial.data->'category' AS category,\n",
    "        crimestatsocial.data->'gender' AS gender,\n",
    "        crimestatsocial.data->'value' AS value\n",
    "    FROM crimestatsocial, region, \"group\"\n",
    "    WHERE crimestatsocial.group_id = \"group\".id\n",
    "    AND crimestatsocial.reg_id = region.id;\"\"\",\n",
    "\n",
    "    \"\"\"\n",
    "    SELECT row_to_json(row) FROM (\n",
    "        SELECT\n",
    "            region.id AS reg_id,\n",
    "            region.name AS reg_name,\n",
    "            crimestatsocial.data->'year' AS year,\n",
    "            \"group\".id AS group_id,\n",
    "            \"group\".name AS group_name,\n",
    "            crimestatsocial.data->'category' AS category,\n",
    "            crimestatsocial.data->'gender' AS gender,\n",
    "            crimestatsocial.data->'value' AS value\n",
    "        FROM crimestatsocial, region, \"group\"\n",
    "        WHERE crimestatsocial.group_id = \"group\".id\n",
    "        AND crimestatsocial.reg_id = region.id\n",
    "    ) row;\"\"\",\n",
    "\n",
    "    \"\"\"\n",
    "    SELECT\n",
    "        region.id AS reg_id,\n",
    "        region.name AS reg_name,\n",
    "        crimestatsocial.data->'year' AS year,\n",
    "        \"group\".id AS group_id,\n",
    "        \"group\".name AS group_name,\n",
    "        crimestatsocial.data->'category' AS category,\n",
    "        crimestatsocial.data->'gender' AS gender,\n",
    "        crimestatsocial.data->'value' AS value\n",
    "    FROM crimestatsocial, region, \"group\"\n",
    "    WHERE crimestatsocial.group_id = \"group\".id\n",
    "    AND crimestatsocial.reg_id = region.id\n",
    "    AND CAST(crimestatsocial.data->>'year' AS integer)=2016;\"\"\",\n",
    "\n",
    "    \"\"\"\n",
    "    SELECT row_to_json(row) FROM (\n",
    "        SELECT\n",
    "            region.id AS reg_id,\n",
    "            region.name AS reg_name,\n",
    "            crimestatsocial.data->'year' AS year,\n",
    "            \"group\".id AS group_id,\n",
    "            \"group\".name AS group_name,\n",
    "            crimestatsocial.data->'category' AS category,\n",
    "            crimestatsocial.data->'gender' AS gender,\n",
    "            crimestatsocial.data->'value' AS value\n",
    "        FROM crimestatsocial, region, \"group\"\n",
    "        WHERE crimestatsocial.group_id = \"group\".id\n",
    "        AND crimestatsocial.reg_id = region.id\n",
    "        AND CAST(crimestatsocial.data->>'year' AS integer)=2016\n",
    "    ) row;\"\"\",\n",
    "\n",
    "    \"\"\"\n",
    "    SELECT group_id, COUNT(\"group_id\")\n",
    "    FROM \"crimestatsocial\"\n",
    "    WHERE CAST(crimestatsocial.data->>'year' AS integer)=2016\n",
    "    GROUP BY \"group_id\";\"\"\",\n",
    "\n",
    "    \"\"\"\n",
    "    SELECT crimestatsocial.data->>'year', COUNT(*)\n",
    "    FROM \"crimestatsocial\"\n",
    "    GROUP BY crimestatsocial.data->>'year';\"\"\",\n",
    "\n",
    "    \"\"\"\n",
    "    SELECT COUNT(\"id\") AS count\n",
    "    FROM \"group\";\"\"\",\n",
    "\n",
    "    \"\"\"\n",
    "    INSERT INTO\n",
    "        \"crimestatsocial\"\n",
    "        (id, data, reg_id, group_id)\n",
    "    VALUES (%s, %s, %s, %s);\"\"\",\n",
    "\n",
    "    \"\"\"\n",
    "    UPDATE \"crimestatsocial\"\n",
    "    SET data = '{\"year\": 2017, \"category\": \"14-15\", \"gender\": \"Мужчины\", \"value\": 1}'\n",
    "    WHERE \"id\" = %s;\"\"\",\n",
    "\n",
    "    \"\"\"\n",
    "    DELETE FROM \"crimestatsocial\"\n",
    "    WHERE \"id\" = %s;\"\"\",\n",
    ")"
   ]
  },
  {
   "cell_type": "markdown",
   "metadata": {},
   "source": [
    "## 1. Собираются исходные кортежи"
   ]
  },
  {
   "cell_type": "code",
   "execution_count": 4,
   "metadata": {},
   "outputs": [
    {
     "name": "stdout",
     "output_type": "stream",
     "text": [
      "27384\n",
      "(1100, 'Российская Федерация', 2016, 14002, 'по возрасту', '14-15', 'Мужчины', 13573)\n"
     ]
    }
   ],
   "source": [
    "cur.execute(commands[0])\n",
    "fetchall = cur.fetchall()\n",
    "n_rows = len(fetchall)\n",
    "print(n_rows)\n",
    "print(fetchall[0])"
   ]
  },
  {
   "cell_type": "code",
   "execution_count": 5,
   "metadata": {
    "scrolled": true
   },
   "outputs": [
    {
     "name": "stdout",
     "output_type": "stream",
     "text": [
      "993 ms ± 88.6 ms per loop (mean ± std. dev. of 7 runs, 1 loop each)\n"
     ]
    }
   ],
   "source": [
    "%timeit cur.execute(commands[0])"
   ]
  },
  {
   "cell_type": "code",
   "execution_count": 6,
   "metadata": {},
   "outputs": [
    {
     "name": "stdout",
     "output_type": "stream",
     "text": [
      "1.48 s ± 115 ms per loop (mean ± std. dev. of 7 runs, 1 loop each)\n"
     ]
    }
   ],
   "source": [
    "%timeit cur.execute(commands[1])"
   ]
  },
  {
   "cell_type": "markdown",
   "metadata": {},
   "source": [
    "## 2. Собираются исходные кортежи за 2016 год"
   ]
  },
  {
   "cell_type": "code",
   "execution_count": 7,
   "metadata": {},
   "outputs": [
    {
     "name": "stdout",
     "output_type": "stream",
     "text": [
      "3948\n",
      "(1100, 'Российская Федерация', 2016, 14002, 'по возрасту', '14-15', 'Мужчины', 13573)\n"
     ]
    }
   ],
   "source": [
    "cur.execute(commands[2])\n",
    "fetchall = cur.fetchall()\n",
    "print(len(fetchall))\n",
    "print(fetchall[0])"
   ]
  },
  {
   "cell_type": "code",
   "execution_count": 8,
   "metadata": {
    "scrolled": true
   },
   "outputs": [
    {
     "name": "stdout",
     "output_type": "stream",
     "text": [
      "335 ms ± 27.1 ms per loop (mean ± std. dev. of 7 runs, 1 loop each)\n"
     ]
    }
   ],
   "source": [
    "%timeit cur.execute(commands[2])"
   ]
  },
  {
   "cell_type": "code",
   "execution_count": 9,
   "metadata": {},
   "outputs": [
    {
     "name": "stdout",
     "output_type": "stream",
     "text": [
      "405 ms ± 44 ms per loop (mean ± std. dev. of 7 runs, 1 loop each)\n"
     ]
    }
   ],
   "source": [
    "%timeit cur.execute(commands[3])"
   ]
  },
  {
   "cell_type": "markdown",
   "metadata": {},
   "source": [
    "## 3. Подсчет исходных кортежей за 2016 год по группам"
   ]
  },
  {
   "cell_type": "code",
   "execution_count": 10,
   "metadata": {
    "scrolled": true
   },
   "outputs": [
    {
     "data": {
      "text/plain": [
       "[(14002, 1128), (14007, 376), (14006, 1692), (14005, 752)]"
      ]
     },
     "execution_count": 10,
     "metadata": {},
     "output_type": "execute_result"
    }
   ],
   "source": [
    "cur.execute(commands[4])\n",
    "cur.fetchall()"
   ]
  },
  {
   "cell_type": "code",
   "execution_count": 11,
   "metadata": {},
   "outputs": [
    {
     "name": "stdout",
     "output_type": "stream",
     "text": [
      "167 ms ± 1.41 ms per loop (mean ± std. dev. of 7 runs, 10 loops each)\n"
     ]
    }
   ],
   "source": [
    "%timeit cur.execute(commands[4])"
   ]
  },
  {
   "cell_type": "markdown",
   "metadata": {},
   "source": [
    "## 4. Подсчет исходных кортежей по годам"
   ]
  },
  {
   "cell_type": "code",
   "execution_count": 12,
   "metadata": {},
   "outputs": [
    {
     "data": {
      "text/plain": [
       "[('2011', 3864),\n",
       " ('2010', 3864),\n",
       " ('2014', 3990),\n",
       " ('2015', 3990),\n",
       " ('2016', 3948),\n",
       " ('2012', 3864),\n",
       " ('2013', 3864)]"
      ]
     },
     "execution_count": 12,
     "metadata": {},
     "output_type": "execute_result"
    }
   ],
   "source": [
    "cur.execute(commands[5])\n",
    "cur.fetchall()"
   ]
  },
  {
   "cell_type": "code",
   "execution_count": 13,
   "metadata": {
    "scrolled": true
   },
   "outputs": [
    {
     "name": "stdout",
     "output_type": "stream",
     "text": [
      "201 ms ± 20.5 ms per loop (mean ± std. dev. of 7 runs, 1 loop each)\n"
     ]
    }
   ],
   "source": [
    "%timeit cur.execute(commands[5])"
   ]
  },
  {
   "cell_type": "markdown",
   "metadata": {},
   "source": [
    "## 5. Подсчет уникальных групп"
   ]
  },
  {
   "cell_type": "code",
   "execution_count": 14,
   "metadata": {
    "scrolled": false
   },
   "outputs": [
    {
     "data": {
      "text/plain": [
       "4"
      ]
     },
     "execution_count": 14,
     "metadata": {},
     "output_type": "execute_result"
    }
   ],
   "source": [
    "def fun():\n",
    "    cur.execute(commands[6])\n",
    "    fetchall = cur.fetchall()\n",
    "    return fetchall[0][0]\n",
    "\n",
    "fun()"
   ]
  },
  {
   "cell_type": "code",
   "execution_count": 15,
   "metadata": {
    "scrolled": true
   },
   "outputs": [
    {
     "name": "stdout",
     "output_type": "stream",
     "text": [
      "817 µs ± 68.8 µs per loop (mean ± std. dev. of 7 runs, 1000 loops each)\n"
     ]
    }
   ],
   "source": [
    "%timeit fun()"
   ]
  },
  {
   "cell_type": "markdown",
   "metadata": {},
   "source": [
    "## 6. Вставка кортежа"
   ]
  },
  {
   "cell_type": "code",
   "execution_count": 16,
   "metadata": {},
   "outputs": [],
   "source": [
    "json = '{\"year\": 2018, \"category\": \"14-15\", \"gender\": \"Мужчины\", \"value\": 1234567890}'\n",
    "item = (n_rows + 1, json, 1100, 14002, )\n",
    "cur.execute(commands[7], item)\n",
    "conn.commit()"
   ]
  },
  {
   "cell_type": "code",
   "execution_count": 17,
   "metadata": {
    "collapsed": true
   },
   "outputs": [],
   "source": [
    "i = int(1e7)\n",
    "def fun():\n",
    "    global i\n",
    "    cur.execute(commands[7], (i, json, 1100, 14002, ))\n",
    "    i += 1"
   ]
  },
  {
   "cell_type": "code",
   "execution_count": 18,
   "metadata": {},
   "outputs": [
    {
     "name": "stdout",
     "output_type": "stream",
     "text": [
      "1.33 ms ± 159 µs per loop (mean ± std. dev. of 5 runs, 1000 loops each)\n"
     ]
    }
   ],
   "source": [
    "%timeit -n 1000 -r 5 fun()"
   ]
  },
  {
   "cell_type": "code",
   "execution_count": 19,
   "metadata": {
    "collapsed": true
   },
   "outputs": [],
   "source": [
    "conn.commit()"
   ]
  },
  {
   "cell_type": "markdown",
   "metadata": {},
   "source": [
    "## 7. Изменение кортежа"
   ]
  },
  {
   "cell_type": "code",
   "execution_count": 20,
   "metadata": {
    "scrolled": false
   },
   "outputs": [],
   "source": [
    "cur.execute(commands[8], (n_rows + 1, ))\n",
    "conn.commit()"
   ]
  },
  {
   "cell_type": "code",
   "execution_count": 21,
   "metadata": {
    "collapsed": true
   },
   "outputs": [],
   "source": [
    "i = int(1e7)\n",
    "def fun():\n",
    "    global i\n",
    "    cur.execute(commands[8], (i, ))\n",
    "    i += 1"
   ]
  },
  {
   "cell_type": "code",
   "execution_count": 22,
   "metadata": {},
   "outputs": [
    {
     "name": "stdout",
     "output_type": "stream",
     "text": [
      "1.22 ms ± 20.1 µs per loop (mean ± std. dev. of 5 runs, 1000 loops each)\n"
     ]
    }
   ],
   "source": [
    "%timeit -n 1000 -r 5 fun()"
   ]
  },
  {
   "cell_type": "code",
   "execution_count": 23,
   "metadata": {
    "collapsed": true
   },
   "outputs": [],
   "source": [
    "conn.commit()"
   ]
  },
  {
   "cell_type": "markdown",
   "metadata": {},
   "source": [
    "## 8. Удаление кортежа"
   ]
  },
  {
   "cell_type": "code",
   "execution_count": 24,
   "metadata": {
    "collapsed": true
   },
   "outputs": [],
   "source": [
    "cur.execute(commands[9], (n_rows + 1, ))\n",
    "conn.commit()"
   ]
  },
  {
   "cell_type": "code",
   "execution_count": 25,
   "metadata": {
    "collapsed": true
   },
   "outputs": [],
   "source": [
    "i = int(1e7)\n",
    "def fun():\n",
    "    global i\n",
    "    cur.execute(commands[9], (i, ))\n",
    "    i += 1"
   ]
  },
  {
   "cell_type": "code",
   "execution_count": 26,
   "metadata": {},
   "outputs": [
    {
     "name": "stdout",
     "output_type": "stream",
     "text": [
      "905 µs ± 44.9 µs per loop (mean ± std. dev. of 5 runs, 1000 loops each)\n"
     ]
    }
   ],
   "source": [
    "%timeit -n 1000 -r 5 fun()"
   ]
  },
  {
   "cell_type": "code",
   "execution_count": 27,
   "metadata": {
    "collapsed": true
   },
   "outputs": [],
   "source": [
    "conn.commit()"
   ]
  },
  {
   "cell_type": "code",
   "execution_count": 28,
   "metadata": {
    "collapsed": true
   },
   "outputs": [],
   "source": [
    "cur.close()\n",
    "conn.close()"
   ]
  }
 ],
 "metadata": {
  "kernelspec": {
   "display_name": "postgres",
   "language": "python",
   "name": "postgres"
  },
  "language_info": {
   "codemirror_mode": {
    "name": "ipython",
    "version": 3
   },
   "file_extension": ".py",
   "mimetype": "text/x-python",
   "name": "python",
   "nbconvert_exporter": "python",
   "pygments_lexer": "ipython3",
   "version": "3.6.2"
  }
 },
 "nbformat": 4,
 "nbformat_minor": 2
}
