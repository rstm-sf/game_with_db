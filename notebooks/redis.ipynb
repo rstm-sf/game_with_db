{
 "cells": [
  {
   "cell_type": "markdown",
   "metadata": {},
   "source": [
    "# Производительность модели ключ-значение на примере работы с Redis\n",
    "\n",
    "<p> https://en.wikipedia.org/wiki/Redis\n",
    "<p> https://github.com/andymccurdy/redis-py\n",
    "\n",
    "```python\n",
    "'css:key': {\n",
    "    \"reg_id\": <string>,\n",
    "    \"reg_name\": <string>,\n",
    "    \"year\": <number>,\n",
    "    \"group_id\": <number>,\n",
    "    \"group_name\": <string>,\n",
    "    \"category\": <string>,\n",
    "    \"gender\": <string>,\n",
    "    \"value\": <number>,\n",
    "}\n",
    "```"
   ]
  },
  {
   "cell_type": "code",
   "execution_count": 1,
   "metadata": {
    "collapsed": true
   },
   "outputs": [],
   "source": [
    "import redis"
   ]
  },
  {
   "cell_type": "code",
   "execution_count": 2,
   "metadata": {
    "collapsed": true
   },
   "outputs": [],
   "source": [
    "pool = redis.ConnectionPool(decode_responses=True)\n",
    "r = redis.StrictRedis(connection_pool=pool)"
   ]
  },
  {
   "cell_type": "code",
   "execution_count": 3,
   "metadata": {
    "scrolled": false
   },
   "outputs": [
    {
     "data": {
      "text/plain": [
       "{'reg_id': '1100',\n",
       " 'reg_name': 'Российская Федерация',\n",
       " 'year': '2016',\n",
       " 'group_id': '14002',\n",
       " 'group_name': 'по возрасту',\n",
       " 'category': '14-15',\n",
       " 'gender': 'Мужчины',\n",
       " 'value': '13573'}"
      ]
     },
     "execution_count": 3,
     "metadata": {},
     "output_type": "execute_result"
    }
   ],
   "source": [
    "r.hgetall('css:0')"
   ]
  },
  {
   "cell_type": "code",
   "execution_count": 4,
   "metadata": {
    "scrolled": false
   },
   "outputs": [
    {
     "data": {
      "text/plain": [
       "['1100',\n",
       " 'Российская Федерация',\n",
       " '2016',\n",
       " '14002',\n",
       " 'по возрасту',\n",
       " '14-15',\n",
       " 'Мужчины',\n",
       " '13573']"
      ]
     },
     "execution_count": 4,
     "metadata": {},
     "output_type": "execute_result"
    }
   ],
   "source": [
    "r.hvals('css:0')"
   ]
  },
  {
   "cell_type": "code",
   "execution_count": 5,
   "metadata": {},
   "outputs": [
    {
     "data": {
      "text/plain": [
       "['reg_id',\n",
       " 'reg_name',\n",
       " 'year',\n",
       " 'group_id',\n",
       " 'group_name',\n",
       " 'category',\n",
       " 'gender',\n",
       " 'value']"
      ]
     },
     "execution_count": 5,
     "metadata": {},
     "output_type": "execute_result"
    }
   ],
   "source": [
    "r.hkeys('css:0')"
   ]
  },
  {
   "cell_type": "code",
   "execution_count": 6,
   "metadata": {
    "scrolled": true
   },
   "outputs": [
    {
     "data": {
      "text/plain": [
       "['1100', 'Российская Федерация']"
      ]
     },
     "execution_count": 6,
     "metadata": {},
     "output_type": "execute_result"
    }
   ],
   "source": [
    "r.hmget('css:0', 'reg_id', 'reg_name')"
   ]
  },
  {
   "cell_type": "code",
   "execution_count": 7,
   "metadata": {
    "scrolled": true
   },
   "outputs": [
    {
     "name": "stdout",
     "output_type": "stream",
     "text": [
      "398 µs ± 119 µs per loop (mean ± std. dev. of 7 runs, 1000 loops each)\n"
     ]
    }
   ],
   "source": [
    "%timeit r.hmget('css:0', 'reg_id', 'reg_name')"
   ]
  }
 ],
 "metadata": {
  "kernelspec": {
   "display_name": "redis",
   "language": "python",
   "name": "redis"
  },
  "language_info": {
   "codemirror_mode": {
    "name": "ipython",
    "version": 3
   },
   "file_extension": ".py",
   "mimetype": "text/x-python",
   "name": "python",
   "nbconvert_exporter": "python",
   "pygments_lexer": "ipython3",
   "version": "3.6.2"
  }
 },
 "nbformat": 4,
 "nbformat_minor": 2
}
