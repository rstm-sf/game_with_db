{
 "cells": [
  {
   "cell_type": "markdown",
   "metadata": {},
   "source": [
    "# Производительность документной модели на примере работы с MongoDB\n",
    "\n",
    "<p> https://en.wikipedia.org/wiki/MongoDB\n",
    "<p> https://docs.mongodb.com/manual/\n",
    "<p> http://api.mongodb.com/python/current/index.html\n",
    "\n",
    "```json\n",
    "document = {\n",
    "    \"_id\": <ObjectId>,\n",
    "    \"region\": {\n",
    "        \"id\": <number>,\n",
    "        \"name\": <string>,\n",
    "    },\n",
    "    \"year\": <number>,\n",
    "    \"group\": {\n",
    "        \"id\": <number>,\n",
    "        \"name\": <string>,\n",
    "    },\n",
    "    \"category\": <string>,\n",
    "    \"gender\": <string>,\n",
    "    \"value\": <number>,\n",
    "}\n",
    "```"
   ]
  },
  {
   "cell_type": "code",
   "execution_count": 1,
   "metadata": {
    "collapsed": true
   },
   "outputs": [],
   "source": [
    "import sys\n",
    "import time\n",
    "\n",
    "from pymongo import MongoClient\n",
    "\n",
    "sys.path.append('../config/')\n",
    "from config import config"
   ]
  },
  {
   "cell_type": "code",
   "execution_count": 2,
   "metadata": {
    "scrolled": true
   },
   "outputs": [],
   "source": [
    "params = config(section='mongodb')\n",
    "client = MongoClient(params[\"host\"], int(params[\"port\"]))\n",
    "db = client[params[\"database\"]]\n",
    "table = db.table"
   ]
  },
  {
   "cell_type": "code",
   "execution_count": 3,
   "metadata": {},
   "outputs": [
    {
     "data": {
      "text/plain": [
       "'3.6.4'"
      ]
     },
     "execution_count": 3,
     "metadata": {},
     "output_type": "execute_result"
    }
   ],
   "source": [
    "client.server_info()['version']"
   ]
  },
  {
   "cell_type": "code",
   "execution_count": 4,
   "metadata": {
    "collapsed": true
   },
   "outputs": [],
   "source": [
    "commands = (\n",
    "    None,\n",
    "\n",
    "    {'year': 2016},\n",
    "\n",
    "    [\n",
    "        {\n",
    "            '$match': { 'year': 2016 }\n",
    "        },\n",
    "        {\n",
    "            '$group': {\n",
    "                '_id': '$group.id',\n",
    "                'count': {'$sum': 1}\n",
    "            }\n",
    "        },\n",
    "        {\n",
    "            '$sort': {'_id': 1}\n",
    "        }\n",
    "    ],\n",
    "\n",
    "    [\n",
    "        {\n",
    "            '$group': {\n",
    "                '_id': '$year',\n",
    "                'count': {'$sum': 1}\n",
    "            }\n",
    "        },\n",
    "        {\n",
    "            '$sort': {'_id': 1}\n",
    "        }\n",
    "    ],\n",
    "\n",
    "    \"group\",\n",
    "\n",
    "    {\n",
    "        '_id': 0,\n",
    "        'region': {\n",
    "            'id': '1100',\n",
    "            'name': 'Российская Федерация'\n",
    "        },\n",
    "        'year': 2018,\n",
    "        'group': {\n",
    "            'id': 14002,\n",
    "            'name': 'по возрасту'\n",
    "        },\n",
    "        'category': '14-15',\n",
    "        'gender': 'Мужчины',\n",
    "        'value': 1234567890\n",
    "    },\n",
    "    \n",
    "    {'$set': {\"year\": 2017, \"value\": 1}},\n",
    ")"
   ]
  },
  {
   "cell_type": "markdown",
   "metadata": {},
   "source": [
    "## 1. Собираются все документы"
   ]
  },
  {
   "cell_type": "code",
   "execution_count": 5,
   "metadata": {},
   "outputs": [
    {
     "name": "stdout",
     "output_type": "stream",
     "text": [
      "27384\n",
      "{'_id': ObjectId('5afc3e58672caf0c3490a6e3'), 'region': {'id': '1100', 'name': 'Российская Федерация'}, 'year': 2016, 'group': {'id': 14002, 'name': 'по возрасту'}, 'category': '14-15', 'gender': 'Мужчины', 'value': 13573}\n"
     ]
    }
   ],
   "source": [
    "docs = [doc for doc in table.find(commands[0])]\n",
    "print(len(docs))\n",
    "print(docs[0])"
   ]
  },
  {
   "cell_type": "code",
   "execution_count": 6,
   "metadata": {},
   "outputs": [
    {
     "name": "stdout",
     "output_type": "stream",
     "text": [
      "47.8 µs ± 1.33 µs per loop (mean ± std. dev. of 7 runs, 10000 loops each)\n"
     ]
    }
   ],
   "source": [
    "%timeit table.find(commands[0])"
   ]
  },
  {
   "cell_type": "markdown",
   "metadata": {},
   "source": [
    "## 2. Собираются документы за 2016 год"
   ]
  },
  {
   "cell_type": "code",
   "execution_count": 7,
   "metadata": {},
   "outputs": [
    {
     "name": "stdout",
     "output_type": "stream",
     "text": [
      "3948\n",
      "{'_id': ObjectId('5afc3e58672caf0c3490a6e3'), 'region': {'id': '1100', 'name': 'Российская Федерация'}, 'year': 2016, 'group': {'id': 14002, 'name': 'по возрасту'}, 'category': '14-15', 'gender': 'Мужчины', 'value': 13573}\n"
     ]
    }
   ],
   "source": [
    "docs = [doc for doc in table.find(commands[1])]\n",
    "print(len(docs))\n",
    "print(docs[0])"
   ]
  },
  {
   "cell_type": "code",
   "execution_count": 8,
   "metadata": {},
   "outputs": [
    {
     "name": "stdout",
     "output_type": "stream",
     "text": [
      "46.7 µs ± 1.25 µs per loop (mean ± std. dev. of 7 runs, 10000 loops each)\n"
     ]
    }
   ],
   "source": [
    "%timeit table.find(commands[1])"
   ]
  },
  {
   "cell_type": "markdown",
   "metadata": {},
   "source": [
    "## 3. Подсчет документов за 2016 год по группам"
   ]
  },
  {
   "cell_type": "code",
   "execution_count": 9,
   "metadata": {
    "scrolled": true
   },
   "outputs": [
    {
     "data": {
      "text/plain": [
       "[{'_id': 14002, 'count': 1128},\n",
       " {'_id': 14005, 'count': 752},\n",
       " {'_id': 14006, 'count': 1692},\n",
       " {'_id': 14007, 'count': 376}]"
      ]
     },
     "execution_count": 9,
     "metadata": {},
     "output_type": "execute_result"
    }
   ],
   "source": [
    "[group for group in table.aggregate(commands[2])]"
   ]
  },
  {
   "cell_type": "code",
   "execution_count": 10,
   "metadata": {},
   "outputs": [
    {
     "name": "stdout",
     "output_type": "stream",
     "text": [
      "69 ms ± 2.36 ms per loop (mean ± std. dev. of 7 runs, 10 loops each)\n"
     ]
    }
   ],
   "source": [
    "%timeit table.aggregate(commands[2])"
   ]
  },
  {
   "cell_type": "markdown",
   "metadata": {},
   "source": [
    "## 4. Подсчет документов по годам"
   ]
  },
  {
   "cell_type": "code",
   "execution_count": 11,
   "metadata": {
    "scrolled": false
   },
   "outputs": [
    {
     "data": {
      "text/plain": [
       "[{'_id': 2010, 'count': 3864},\n",
       " {'_id': 2011, 'count': 3864},\n",
       " {'_id': 2012, 'count': 3864},\n",
       " {'_id': 2013, 'count': 3864},\n",
       " {'_id': 2014, 'count': 3990},\n",
       " {'_id': 2015, 'count': 3990},\n",
       " {'_id': 2016, 'count': 3948}]"
      ]
     },
     "execution_count": 11,
     "metadata": {},
     "output_type": "execute_result"
    }
   ],
   "source": [
    "[i for i in table.aggregate(commands[3])]"
   ]
  },
  {
   "cell_type": "code",
   "execution_count": 12,
   "metadata": {},
   "outputs": [
    {
     "name": "stdout",
     "output_type": "stream",
     "text": [
      "78.7 ms ± 2.93 ms per loop (mean ± std. dev. of 7 runs, 10 loops each)\n"
     ]
    }
   ],
   "source": [
    "%timeit table.aggregate(commands[3])"
   ]
  },
  {
   "cell_type": "markdown",
   "metadata": {},
   "source": [
    "## 5. Подсчет уникальных групп"
   ]
  },
  {
   "cell_type": "code",
   "execution_count": 13,
   "metadata": {},
   "outputs": [
    {
     "data": {
      "text/plain": [
       "4"
      ]
     },
     "execution_count": 13,
     "metadata": {},
     "output_type": "execute_result"
    }
   ],
   "source": [
    "len(table.distinct(commands[4]))"
   ]
  },
  {
   "cell_type": "code",
   "execution_count": 14,
   "metadata": {
    "scrolled": false
   },
   "outputs": [
    {
     "name": "stdout",
     "output_type": "stream",
     "text": [
      "86 ms ± 10.7 ms per loop (mean ± std. dev. of 7 runs, 10 loops each)\n"
     ]
    }
   ],
   "source": [
    "%timeit len(table.distinct(commands[4]))"
   ]
  },
  {
   "cell_type": "markdown",
   "metadata": {},
   "source": [
    "## 6. Вставка документа"
   ]
  },
  {
   "cell_type": "code",
   "execution_count": 15,
   "metadata": {},
   "outputs": [
    {
     "data": {
      "text/plain": [
       "0"
      ]
     },
     "execution_count": 15,
     "metadata": {},
     "output_type": "execute_result"
    }
   ],
   "source": [
    "table.insert_one(commands[5]).inserted_id"
   ]
  },
  {
   "cell_type": "code",
   "execution_count": 16,
   "metadata": {
    "collapsed": true
   },
   "outputs": [],
   "source": [
    "i = 1\n",
    "def fun():\n",
    "    global i\n",
    "    commands[5][\"_id\"] = i\n",
    "    table.insert_one(commands[5])\n",
    "    i += 1"
   ]
  },
  {
   "cell_type": "code",
   "execution_count": 17,
   "metadata": {},
   "outputs": [
    {
     "name": "stdout",
     "output_type": "stream",
     "text": [
      "2.48 ms ± 50.8 µs per loop (mean ± std. dev. of 5 runs, 1000 loops each)\n"
     ]
    }
   ],
   "source": [
    "%timeit -n 1000 -r 5 fun()"
   ]
  },
  {
   "cell_type": "markdown",
   "metadata": {
    "collapsed": true
   },
   "source": [
    "## 7. Изменение документа"
   ]
  },
  {
   "cell_type": "code",
   "execution_count": 18,
   "metadata": {},
   "outputs": [
    {
     "data": {
      "text/plain": [
       "1"
      ]
     },
     "execution_count": 18,
     "metadata": {},
     "output_type": "execute_result"
    }
   ],
   "source": [
    "table.update_one({\"_id\": 0}, commands[6]).modified_count"
   ]
  },
  {
   "cell_type": "code",
   "execution_count": 19,
   "metadata": {
    "collapsed": true
   },
   "outputs": [],
   "source": [
    "i = 1\n",
    "def fun():\n",
    "    global i\n",
    "    table.update_one({\"_id\": i}, commands[6])\n",
    "    i += 1"
   ]
  },
  {
   "cell_type": "code",
   "execution_count": 20,
   "metadata": {},
   "outputs": [
    {
     "name": "stdout",
     "output_type": "stream",
     "text": [
      "2.88 ms ± 132 µs per loop (mean ± std. dev. of 5 runs, 1000 loops each)\n"
     ]
    }
   ],
   "source": [
    "%timeit -n 1000 -r 5 fun()"
   ]
  },
  {
   "cell_type": "markdown",
   "metadata": {},
   "source": [
    "## 8. Удаление документа"
   ]
  },
  {
   "cell_type": "code",
   "execution_count": 21,
   "metadata": {},
   "outputs": [
    {
     "data": {
      "text/plain": [
       "1"
      ]
     },
     "execution_count": 21,
     "metadata": {},
     "output_type": "execute_result"
    }
   ],
   "source": [
    "table.delete_one({\"_id\": 0}).deleted_count"
   ]
  },
  {
   "cell_type": "code",
   "execution_count": 22,
   "metadata": {
    "collapsed": true
   },
   "outputs": [],
   "source": [
    "i = 1\n",
    "def fun():\n",
    "    global i\n",
    "    table.delete_one({\"_id\": i})\n",
    "    i += 1"
   ]
  },
  {
   "cell_type": "code",
   "execution_count": 23,
   "metadata": {},
   "outputs": [
    {
     "name": "stdout",
     "output_type": "stream",
     "text": [
      "2.64 ms ± 85.3 µs per loop (mean ± std. dev. of 5 runs, 1000 loops each)\n"
     ]
    }
   ],
   "source": [
    "%timeit -n 1000 -r 5 fun()"
   ]
  },
  {
   "cell_type": "code",
   "execution_count": 24,
   "metadata": {
    "collapsed": true
   },
   "outputs": [],
   "source": [
    "client.close()"
   ]
  }
 ],
 "metadata": {
  "kernelspec": {
   "display_name": "mongo",
   "language": "python",
   "name": "mongo"
  },
  "language_info": {
   "codemirror_mode": {
    "name": "ipython",
    "version": 3
   },
   "file_extension": ".py",
   "mimetype": "text/x-python",
   "name": "python",
   "nbconvert_exporter": "python",
   "pygments_lexer": "ipython3",
   "version": "3.6.2"
  }
 },
 "nbformat": 4,
 "nbformat_minor": 2
}
