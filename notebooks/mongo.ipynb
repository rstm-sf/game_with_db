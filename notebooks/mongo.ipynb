{
 "cells": [
  {
   "cell_type": "markdown",
   "metadata": {},
   "source": [
    "# Производительность документной модели на примере работы с MongoDB\n",
    "\n",
    "<p> https://en.wikipedia.org/wiki/MongoDB\n",
    "<p> https://docs.mongodb.com/manual/\n",
    "<p> http://api.mongodb.com/python/current/index.html\n",
    "\n",
    "```json\n",
    "document = {\n",
    "    \"region\": {\n",
    "        \"id\": <number>,\n",
    "        \"name\": <string>,\n",
    "    },\n",
    "    \"year\": <number>,\n",
    "    \"group\": {\n",
    "        \"id\": <number>,\n",
    "        \"name\": <string>,\n",
    "    },\n",
    "    \"category\": <string>,\n",
    "    \"gender\": <string>,\n",
    "    \"value\": <number>,\n",
    "}\n",
    "```"
   ]
  },
  {
   "cell_type": "code",
   "execution_count": 1,
   "metadata": {
    "collapsed": true
   },
   "outputs": [],
   "source": [
    "import sys\n",
    "import time\n",
    "\n",
    "from pymongo import MongoClient\n",
    "\n",
    "sys.path.append('../config/')\n",
    "from config import config"
   ]
  },
  {
   "cell_type": "code",
   "execution_count": 2,
   "metadata": {
    "collapsed": true
   },
   "outputs": [],
   "source": [
    "params = config(section='mongodb')\n",
    "client = MongoClient(params[\"host\"], int(params[\"port\"]))\n",
    "db = client[params[\"database\"]]\n",
    "table = db.table"
   ]
  },
  {
   "cell_type": "code",
   "execution_count": 3,
   "metadata": {
    "collapsed": true
   },
   "outputs": [],
   "source": [
    "commands = (\n",
    "    None,\n",
    "    {'year': 2016},\n",
    "    [\n",
    "        {\n",
    "            '$match': { 'year': 2016 }\n",
    "        },\n",
    "        {\n",
    "            '$group': {\n",
    "                '_id': '$group.id',\n",
    "                'count': {'$sum': 1}\n",
    "            }\n",
    "        },\n",
    "        {\n",
    "            '$sort': {'_id': 1}\n",
    "        }\n",
    "    ],\n",
    "    [\n",
    "        {\n",
    "            '$group': {\n",
    "                '_id': '$year',\n",
    "                'count': {'$sum': 1}\n",
    "            }\n",
    "        },\n",
    "        {\n",
    "            '$sort': {'_id': 1}\n",
    "        }\n",
    "    ],\n",
    "    \"group\",\n",
    ")"
   ]
  },
  {
   "cell_type": "markdown",
   "metadata": {},
   "source": [
    "## 1. Собираются все документы"
   ]
  },
  {
   "cell_type": "code",
   "execution_count": 4,
   "metadata": {},
   "outputs": [
    {
     "name": "stdout",
     "output_type": "stream",
     "text": [
      "27384\n",
      "{'_id': ObjectId('5afc3e58672caf0c3490a6e3'), 'region': {'id': '1100', 'name': 'Российская Федерация'}, 'year': 2016, 'group': {'id': 14002, 'name': 'по возрасту'}, 'category': '14-15', 'gender': 'Мужчины', 'value': 13573}\n"
     ]
    }
   ],
   "source": [
    "docs = [doc for doc in table.find(commands[0])]\n",
    "print(len(docs))\n",
    "print(docs[0])"
   ]
  },
  {
   "cell_type": "code",
   "execution_count": 5,
   "metadata": {},
   "outputs": [
    {
     "name": "stdout",
     "output_type": "stream",
     "text": [
      "50.7 µs ± 2.15 µs per loop (mean ± std. dev. of 7 runs, 10000 loops each)\n"
     ]
    }
   ],
   "source": [
    "%timeit table.find(commands[0])"
   ]
  },
  {
   "cell_type": "markdown",
   "metadata": {},
   "source": [
    "## 2. Собираются документы за 2016 год"
   ]
  },
  {
   "cell_type": "code",
   "execution_count": 6,
   "metadata": {},
   "outputs": [
    {
     "name": "stdout",
     "output_type": "stream",
     "text": [
      "3948\n",
      "{'_id': ObjectId('5afc3e58672caf0c3490a6e3'), 'region': {'id': '1100', 'name': 'Российская Федерация'}, 'year': 2016, 'group': {'id': 14002, 'name': 'по возрасту'}, 'category': '14-15', 'gender': 'Мужчины', 'value': 13573}\n"
     ]
    }
   ],
   "source": [
    "docs = [doc for doc in table.find(commands[1])]\n",
    "print(len(docs))\n",
    "print(docs[0])"
   ]
  },
  {
   "cell_type": "code",
   "execution_count": 7,
   "metadata": {},
   "outputs": [
    {
     "name": "stdout",
     "output_type": "stream",
     "text": [
      "51.8 µs ± 2.88 µs per loop (mean ± std. dev. of 7 runs, 10000 loops each)\n"
     ]
    }
   ],
   "source": [
    "%timeit table.find(commands[1])"
   ]
  },
  {
   "cell_type": "markdown",
   "metadata": {},
   "source": [
    "## 3. Подсчет документов за 2016 год по группам"
   ]
  },
  {
   "cell_type": "code",
   "execution_count": 8,
   "metadata": {
    "scrolled": true
   },
   "outputs": [
    {
     "data": {
      "text/plain": [
       "[{'_id': 14002, 'count': 1128},\n",
       " {'_id': 14005, 'count': 752},\n",
       " {'_id': 14006, 'count': 1692},\n",
       " {'_id': 14007, 'count': 376}]"
      ]
     },
     "execution_count": 8,
     "metadata": {},
     "output_type": "execute_result"
    }
   ],
   "source": [
    "[group for group in table.aggregate(commands[2])]"
   ]
  },
  {
   "cell_type": "code",
   "execution_count": 9,
   "metadata": {},
   "outputs": [
    {
     "name": "stdout",
     "output_type": "stream",
     "text": [
      "72.4 ms ± 3.93 ms per loop (mean ± std. dev. of 7 runs, 10 loops each)\n"
     ]
    }
   ],
   "source": [
    "%timeit table.aggregate(commands[2])"
   ]
  },
  {
   "cell_type": "markdown",
   "metadata": {},
   "source": [
    "## 4. Подсчет документов по годам"
   ]
  },
  {
   "cell_type": "code",
   "execution_count": 10,
   "metadata": {
    "scrolled": false
   },
   "outputs": [
    {
     "data": {
      "text/plain": [
       "[{'_id': 2010, 'count': 3864},\n",
       " {'_id': 2011, 'count': 3864},\n",
       " {'_id': 2012, 'count': 3864},\n",
       " {'_id': 2013, 'count': 3864},\n",
       " {'_id': 2014, 'count': 3990},\n",
       " {'_id': 2015, 'count': 3990},\n",
       " {'_id': 2016, 'count': 3948}]"
      ]
     },
     "execution_count": 10,
     "metadata": {},
     "output_type": "execute_result"
    }
   ],
   "source": [
    "[i for i in table.aggregate(commands[3])]"
   ]
  },
  {
   "cell_type": "code",
   "execution_count": 11,
   "metadata": {},
   "outputs": [
    {
     "name": "stdout",
     "output_type": "stream",
     "text": [
      "80.9 ms ± 3.22 ms per loop (mean ± std. dev. of 7 runs, 10 loops each)\n"
     ]
    }
   ],
   "source": [
    "%timeit table.aggregate(commands[3])"
   ]
  },
  {
   "cell_type": "markdown",
   "metadata": {},
   "source": [
    "## 5. Подсчет уникальных групп"
   ]
  },
  {
   "cell_type": "code",
   "execution_count": 12,
   "metadata": {},
   "outputs": [
    {
     "data": {
      "text/plain": [
       "4"
      ]
     },
     "execution_count": 12,
     "metadata": {},
     "output_type": "execute_result"
    }
   ],
   "source": [
    "len(table.distinct(commands[4]))"
   ]
  },
  {
   "cell_type": "code",
   "execution_count": 13,
   "metadata": {
    "scrolled": true
   },
   "outputs": [
    {
     "name": "stdout",
     "output_type": "stream",
     "text": [
      "103 ms ± 18.3 ms per loop (mean ± std. dev. of 7 runs, 10 loops each)\n"
     ]
    }
   ],
   "source": [
    "%timeit len(table.distinct(commands[4]))"
   ]
  },
  {
   "cell_type": "code",
   "execution_count": 14,
   "metadata": {
    "collapsed": true
   },
   "outputs": [],
   "source": [
    "client.close()"
   ]
  }
 ],
 "metadata": {
  "kernelspec": {
   "display_name": "mongo",
   "language": "python",
   "name": "mongo"
  },
  "language_info": {
   "codemirror_mode": {
    "name": "ipython",
    "version": 3
   },
   "file_extension": ".py",
   "mimetype": "text/x-python",
   "name": "python",
   "nbconvert_exporter": "python",
   "pygments_lexer": "ipython3",
   "version": "3.6.2"
  }
 },
 "nbformat": 4,
 "nbformat_minor": 2
}
